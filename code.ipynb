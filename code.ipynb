{
 "cells": [
  {
   "cell_type": "markdown",
   "metadata": {},
   "source": [
    "### Importing libraries"
   ]
  },
  {
   "cell_type": "code",
   "execution_count": 1,
   "metadata": {
    "id": "G7mNar5O6cbw"
   },
   "outputs": [],
   "source": [
    "import numpy as np\n",
    "import pandas as pd\n",
    "import matplotlib.pyplot as plt\n",
    "from sklearn.feature_extraction.text import CountVectorizer, TfidfVectorizer\n",
    "np.random.seed(0)\n"
   ]
  },
  {
   "cell_type": "code",
   "execution_count": 2,
   "metadata": {
    "id": "MRx8mUkI65Is"
   },
   "outputs": [],
   "source": [
    "from sklearn.linear_model import SGDClassifier\n",
    "from sklearn.preprocessing import StandardScaler\n",
    "from sklearn.pipeline import Pipeline\n",
    "from sklearn.metrics import classification_report\n",
    "from sklearn.metrics import ConfusionMatrixDisplay\n",
    "from sklearn.metrics import accuracy_score, accuracy_score\n",
    "from sklearn.svm import LinearSVC\n",
    "from sklearn.neighbors import NearestNeighbors\n",
    "from sklearn.naive_bayes import MultinomialNB\n",
    "from scipy import stats\n",
    "from sklearn.metrics import balanced_accuracy_score\n",
    "from sklearn.neighbors import NearestNeighbors\n",
    "from sklearn.naive_bayes import MultinomialNB\n",
    "from sklearn.model_selection import GridSearchCV, RandomizedSearchCV, train_test_split\n",
    "from scipy import stats\n",
    "import seaborn as sns\n",
    "from sklearn.metrics import balanced_accuracy_score\n",
    "from sklearn.impute import SimpleImputer\n",
    "from time import time as tt"
   ]
  },
  {
   "cell_type": "code",
   "execution_count": 3,
   "metadata": {
    "id": "TVhkN7c368ZX"
   },
   "outputs": [],
   "source": [
    "%%capture\n",
    "# we use %%capture to suppress the output. Comment the line above if you're working on local machine\n",
    "# install spacy\n",
    "!pip install --upgrade spacy\n",
    "!python -m spacy download en_core_web_sm\n",
    "!python -m spacy download en_core_web_md\n",
    "#!python -m spacy download en_core_web_lg\n",
    "!pip install clean-text\n",
    "\n"
   ]
  },
  {
   "cell_type": "code",
   "execution_count": 4,
   "metadata": {
    "colab": {
     "base_uri": "https://localhost:8080/"
    },
    "id": "lKXvh80j6_Mi",
    "outputId": "0c499311-cd3b-4891-9faa-dd02c7d55d55"
   },
   "outputs": [
    {
     "name": "stderr",
     "output_type": "stream",
     "text": [
      "Since the GPL-licensed package `unidecode` is not installed, using Python's `unicodedata` package which yields worse results.\n"
     ]
    }
   ],
   "source": [
    "import spacy\n",
    "from cleantext import clean"
   ]
  },
  {
   "cell_type": "markdown",
   "metadata": {},
   "source": [
    "# Data"
   ]
  },
  {
   "cell_type": "code",
   "execution_count": 5,
   "metadata": {
    "id": "8xPibiG37Ix1"
   },
   "outputs": [],
   "source": [
    "data=pd.read_csv('dataset.csv')"
   ]
  },
  {
   "cell_type": "code",
   "execution_count": 6,
   "metadata": {
    "colab": {
     "base_uri": "https://localhost:8080/",
     "height": 293
    },
    "id": "s4Kr4ly58KS9",
    "outputId": "02eb8be6-f01b-4cbf-8fc6-e6af159b0b22",
    "scrolled": true
   },
   "outputs": [
    {
     "data": {
      "text/html": [
       "<div>\n",
       "<style scoped>\n",
       "    .dataframe tbody tr th:only-of-type {\n",
       "        vertical-align: middle;\n",
       "    }\n",
       "\n",
       "    .dataframe tbody tr th {\n",
       "        vertical-align: top;\n",
       "    }\n",
       "\n",
       "    .dataframe thead th {\n",
       "        text-align: right;\n",
       "    }\n",
       "</style>\n",
       "<table border=\"1\" class=\"dataframe\">\n",
       "  <thead>\n",
       "    <tr style=\"text-align: right;\">\n",
       "      <th></th>\n",
       "      <th>par_id</th>\n",
       "      <th>paragraph</th>\n",
       "      <th>has_entity</th>\n",
       "      <th>lexicon_count</th>\n",
       "      <th>difficult_words</th>\n",
       "      <th>last_editor_gender</th>\n",
       "      <th>category</th>\n",
       "      <th>text_clarity</th>\n",
       "    </tr>\n",
       "  </thead>\n",
       "  <tbody>\n",
       "    <tr>\n",
       "      <th>0</th>\n",
       "      <td>428209002237</td>\n",
       "      <td>Ramsay was born in Glasgow on 2 October 1852. ...</td>\n",
       "      <td>ORG_YES_PRODUCT_NO_PERSON_YES_</td>\n",
       "      <td>49.0</td>\n",
       "      <td>12.0</td>\n",
       "      <td>man</td>\n",
       "      <td>biographies</td>\n",
       "      <td>clear_enough</td>\n",
       "    </tr>\n",
       "    <tr>\n",
       "      <th>1</th>\n",
       "      <td>564218010072</td>\n",
       "      <td>It has been widely estimated for at least the ...</td>\n",
       "      <td>ORG_YES_PRODUCT_NO_PERSON_NO_</td>\n",
       "      <td>166.0</td>\n",
       "      <td>47.0</td>\n",
       "      <td>man</td>\n",
       "      <td>artificial intelligence</td>\n",
       "      <td>not_clear_enough</td>\n",
       "    </tr>\n",
       "    <tr>\n",
       "      <th>2</th>\n",
       "      <td>291401001672</td>\n",
       "      <td>He went on to win the Royal Medal of the Royal...</td>\n",
       "      <td>ORG_YES_PRODUCT_NO_PERSON_NO_</td>\n",
       "      <td>69.0</td>\n",
       "      <td>18.0</td>\n",
       "      <td>non-binary</td>\n",
       "      <td>biographies</td>\n",
       "      <td>clear_enough</td>\n",
       "    </tr>\n",
       "    <tr>\n",
       "      <th>3</th>\n",
       "      <td>31548004883</td>\n",
       "      <td>The changes have altered many underlying assum...</td>\n",
       "      <td>ORG_NO_PRODUCT_YES_PERSON_NO_</td>\n",
       "      <td>76.0</td>\n",
       "      <td>27.0</td>\n",
       "      <td>non-binary</td>\n",
       "      <td>programming</td>\n",
       "      <td>clear_enough</td>\n",
       "    </tr>\n",
       "    <tr>\n",
       "      <th>4</th>\n",
       "      <td>50634005146</td>\n",
       "      <td>After these novels were published, Disraeli de...</td>\n",
       "      <td>ORG_YES_PRODUCT_YES_PERSON_YES_</td>\n",
       "      <td>200.0</td>\n",
       "      <td>47.0</td>\n",
       "      <td>man</td>\n",
       "      <td>biographies</td>\n",
       "      <td>not_clear_enough</td>\n",
       "    </tr>\n",
       "  </tbody>\n",
       "</table>\n",
       "</div>"
      ],
      "text/plain": [
       "         par_id                                          paragraph  \\\n",
       "0  428209002237  Ramsay was born in Glasgow on 2 October 1852. ...   \n",
       "1  564218010072  It has been widely estimated for at least the ...   \n",
       "2  291401001672  He went on to win the Royal Medal of the Royal...   \n",
       "3   31548004883  The changes have altered many underlying assum...   \n",
       "4   50634005146  After these novels were published, Disraeli de...   \n",
       "\n",
       "                        has_entity  lexicon_count  difficult_words  \\\n",
       "0   ORG_YES_PRODUCT_NO_PERSON_YES_           49.0             12.0   \n",
       "1    ORG_YES_PRODUCT_NO_PERSON_NO_          166.0             47.0   \n",
       "2    ORG_YES_PRODUCT_NO_PERSON_NO_           69.0             18.0   \n",
       "3    ORG_NO_PRODUCT_YES_PERSON_NO_           76.0             27.0   \n",
       "4  ORG_YES_PRODUCT_YES_PERSON_YES_          200.0             47.0   \n",
       "\n",
       "  last_editor_gender                 category      text_clarity  \n",
       "0                man              biographies      clear_enough  \n",
       "1                man  artificial intelligence  not_clear_enough  \n",
       "2         non-binary              biographies      clear_enough  \n",
       "3         non-binary              programming      clear_enough  \n",
       "4                man              biographies  not_clear_enough  "
      ]
     },
     "execution_count": 6,
     "metadata": {},
     "output_type": "execute_result"
    }
   ],
   "source": [
    "data.head()"
   ]
  },
  {
   "cell_type": "markdown",
   "metadata": {},
   "source": [
    "# EDA"
   ]
  },
  {
   "cell_type": "code",
   "execution_count": 7,
   "metadata": {},
   "outputs": [
    {
     "data": {
      "text/plain": [
       "pandas.core.frame.DataFrame"
      ]
     },
     "execution_count": 7,
     "metadata": {},
     "output_type": "execute_result"
    }
   ],
   "source": [
    "type(data)"
   ]
  },
  {
   "cell_type": "code",
   "execution_count": 8,
   "metadata": {},
   "outputs": [
    {
     "data": {
      "text/plain": [
       "(9132, 8)"
      ]
     },
     "execution_count": 8,
     "metadata": {},
     "output_type": "execute_result"
    }
   ],
   "source": [
    "data.shape"
   ]
  },
  {
   "cell_type": "code",
   "execution_count": 9,
   "metadata": {},
   "outputs": [
    {
     "data": {
      "text/plain": [
       "Index(['par_id', 'paragraph', 'has_entity', 'lexicon_count', 'difficult_words',\n",
       "       'last_editor_gender', 'category', 'text_clarity'],\n",
       "      dtype='object')"
      ]
     },
     "execution_count": 9,
     "metadata": {},
     "output_type": "execute_result"
    }
   ],
   "source": [
    "# list of column titles\n",
    "data.columns"
   ]
  },
  {
   "cell_type": "code",
   "execution_count": 10,
   "metadata": {},
   "outputs": [
    {
     "data": {
      "text/plain": [
       "par_id                  int64\n",
       "paragraph              object\n",
       "has_entity             object\n",
       "lexicon_count         float64\n",
       "difficult_words       float64\n",
       "last_editor_gender     object\n",
       "category               object\n",
       "text_clarity           object\n",
       "dtype: object"
      ]
     },
     "execution_count": 10,
     "metadata": {},
     "output_type": "execute_result"
    }
   ],
   "source": [
    "data.dtypes"
   ]
  },
  {
   "cell_type": "code",
   "execution_count": 11,
   "metadata": {},
   "outputs": [
    {
     "name": "stdout",
     "output_type": "stream",
     "text": [
      "<class 'pandas.core.frame.DataFrame'>\n",
      "RangeIndex: 9132 entries, 0 to 9131\n",
      "Data columns (total 8 columns):\n",
      " #   Column              Non-Null Count  Dtype  \n",
      "---  ------              --------------  -----  \n",
      " 0   par_id              9132 non-null   int64  \n",
      " 1   paragraph           9132 non-null   object \n",
      " 2   has_entity          9132 non-null   object \n",
      " 3   lexicon_count       9132 non-null   float64\n",
      " 4   difficult_words     9132 non-null   float64\n",
      " 5   last_editor_gender  9132 non-null   object \n",
      " 6   category            9132 non-null   object \n",
      " 7   text_clarity        9132 non-null   object \n",
      "dtypes: float64(2), int64(1), object(5)\n",
      "memory usage: 570.9+ KB\n"
     ]
    }
   ],
   "source": [
    "data.info()"
   ]
  },
  {
   "cell_type": "code",
   "execution_count": 12,
   "metadata": {},
   "outputs": [
    {
     "data": {
      "text/html": [
       "<div>\n",
       "<style scoped>\n",
       "    .dataframe tbody tr th:only-of-type {\n",
       "        vertical-align: middle;\n",
       "    }\n",
       "\n",
       "    .dataframe tbody tr th {\n",
       "        vertical-align: top;\n",
       "    }\n",
       "\n",
       "    .dataframe thead th {\n",
       "        text-align: right;\n",
       "    }\n",
       "</style>\n",
       "<table border=\"1\" class=\"dataframe\">\n",
       "  <thead>\n",
       "    <tr style=\"text-align: right;\">\n",
       "      <th></th>\n",
       "      <th>par_id</th>\n",
       "      <th>lexicon_count</th>\n",
       "      <th>difficult_words</th>\n",
       "    </tr>\n",
       "  </thead>\n",
       "  <tbody>\n",
       "    <tr>\n",
       "      <th>count</th>\n",
       "      <td>9.132000e+03</td>\n",
       "      <td>9132.000000</td>\n",
       "      <td>9132.000000</td>\n",
       "    </tr>\n",
       "    <tr>\n",
       "      <th>mean</th>\n",
       "      <td>3.571119e+11</td>\n",
       "      <td>82.039422</td>\n",
       "      <td>21.537698</td>\n",
       "    </tr>\n",
       "    <tr>\n",
       "      <th>std</th>\n",
       "      <td>3.220610e+11</td>\n",
       "      <td>63.456144</td>\n",
       "      <td>16.297682</td>\n",
       "    </tr>\n",
       "    <tr>\n",
       "      <th>min</th>\n",
       "      <td>8.500328e+07</td>\n",
       "      <td>0.000000</td>\n",
       "      <td>0.000000</td>\n",
       "    </tr>\n",
       "    <tr>\n",
       "      <th>25%</th>\n",
       "      <td>7.019601e+10</td>\n",
       "      <td>33.000000</td>\n",
       "      <td>9.000000</td>\n",
       "    </tr>\n",
       "    <tr>\n",
       "      <th>50%</th>\n",
       "      <td>2.684380e+11</td>\n",
       "      <td>64.000000</td>\n",
       "      <td>17.000000</td>\n",
       "    </tr>\n",
       "    <tr>\n",
       "      <th>75%</th>\n",
       "      <td>6.124310e+11</td>\n",
       "      <td>117.000000</td>\n",
       "      <td>30.000000</td>\n",
       "    </tr>\n",
       "    <tr>\n",
       "      <th>max</th>\n",
       "      <td>1.058779e+12</td>\n",
       "      <td>653.000000</td>\n",
       "      <td>143.000000</td>\n",
       "    </tr>\n",
       "  </tbody>\n",
       "</table>\n",
       "</div>"
      ],
      "text/plain": [
       "             par_id  lexicon_count  difficult_words\n",
       "count  9.132000e+03    9132.000000      9132.000000\n",
       "mean   3.571119e+11      82.039422        21.537698\n",
       "std    3.220610e+11      63.456144        16.297682\n",
       "min    8.500328e+07       0.000000         0.000000\n",
       "25%    7.019601e+10      33.000000         9.000000\n",
       "50%    2.684380e+11      64.000000        17.000000\n",
       "75%    6.124310e+11     117.000000        30.000000\n",
       "max    1.058779e+12     653.000000       143.000000"
      ]
     },
     "execution_count": 12,
     "metadata": {},
     "output_type": "execute_result"
    }
   ],
   "source": [
    "data.describe()"
   ]
  },
  {
   "cell_type": "code",
   "execution_count": 13,
   "metadata": {},
   "outputs": [],
   "source": [
    "categorical_columns=['has_entity','last_editor_gender','category']\n",
    "numerical_columns=['lexicon_count','difficult_words']"
   ]
  },
  {
   "cell_type": "code",
   "execution_count": 14,
   "metadata": {},
   "outputs": [
    {
     "name": "stdout",
     "output_type": "stream",
     "text": [
      "Categories and number of occurrences for 'has_entity'\n",
      "has_entity\n",
      "ORG_YES_PRODUCT_NO_PERSON_YES_     3020\n",
      "ORG_NO_PRODUCT_NO_PERSON_NO_       2793\n",
      "ORG_YES_PRODUCT_NO_PERSON_NO_      1448\n",
      "ORG_NO_PRODUCT_NO_PERSON_YES_      1349\n",
      "ORG_YES_PRODUCT_YES_PERSON_YES_     292\n",
      "ORG_YES_PRODUCT_YES_PERSON_NO_      124\n",
      "ORG_NO_PRODUCT_YES_PERSON_YES_       64\n",
      "ORG_NO_PRODUCT_YES_PERSON_NO_        42\n",
      "Name: count, dtype: int64\n",
      "\n",
      "Categories and number of occurrences for 'last_editor_gender'\n",
      "last_editor_gender\n",
      "man                  6103\n",
      "woman                2412\n",
      "non-binary            352\n",
      "prefer_not_to_say     265\n",
      "Name: count, dtype: int64\n",
      "\n",
      "Categories and number of occurrences for 'category'\n",
      "category\n",
      "biographies                             2960\n",
      "philosophy                              2524\n",
      "programming                             1948\n",
      "artificial intelligence                 1537\n",
      "movies about artificial intelligence     163\n",
      "Name: count, dtype: int64\n",
      "\n"
     ]
    }
   ],
   "source": [
    "# get the categories and their count for each feature\n",
    "for col in categorical_columns:\n",
    "  print(f\"Categories and number of occurrences for '{col}'\")\n",
    "  print(data[col].value_counts())\n",
    "  print()"
   ]
  },
  {
   "cell_type": "code",
   "execution_count": 15,
   "metadata": {},
   "outputs": [
    {
     "data": {
      "text/plain": [
       "Text(0.5, 1.0, 'histogram ')"
      ]
     },
     "execution_count": 15,
     "metadata": {},
     "output_type": "execute_result"
    },
    {
     "data": {
      "image/png": "[encoded data removed]",
      "text/plain": [
       "<Figure size 1000x1000 with 4 Axes>"
      ]
     },
     "metadata": {},
     "output_type": "display_data"
    }
   ],
   "source": [
    "data.hist(figsize=(10,10))\n",
    "plt.title('histogram ')"
   ]
  },
  {
   "cell_type": "code",
   "execution_count": 16,
   "metadata": {},
   "outputs": [
    {
     "data": {
      "text/plain": [
       "<AxesSubplot:>"
      ]
     },
     "execution_count": 16,
     "metadata": {},
     "output_type": "execute_result"
    },
    {
     "data": {
      "image/png": "[encoded data removed]",
      "text/plain": [
       "<Figure size 640x480 with 1 Axes>"
      ]
     },
     "metadata": {},
     "output_type": "display_data"
    }
   ],
   "source": [
    "data.boxplot('difficult_words')"
   ]
  },
  {
   "cell_type": "code",
   "execution_count": 17,
   "metadata": {},
   "outputs": [
    {
     "data": {
      "text/plain": [
       "<AxesSubplot:>"
      ]
     },
     "execution_count": 17,
     "metadata": {},
     "output_type": "execute_result"
    },
    {
     "data": {
      "image/png": "[encoded data removed]",
      "text/plain": [
       "<Figure size 640x480 with 1 Axes>"
      ]
     },
     "metadata": {},
     "output_type": "display_data"
    }
   ],
   "source": [
    "data.boxplot('lexicon_count')"
   ]
  },
  {
   "cell_type": "code",
   "execution_count": 18,
   "metadata": {},
   "outputs": [
    {
     "data": {
      "text/plain": [
       "<AxesSubplot:title={'center':'entity count '}, xlabel='has_entity', ylabel='count'>"
      ]
     },
     "execution_count": 18,
     "metadata": {},
     "output_type": "execute_result"
    },
    {
     "data": {
      "image/png": "[encoded data removed]",
      "text/plain": [
       "<Figure size 600x600 with 1 Axes>"
      ]
     },
     "metadata": {},
     "output_type": "display_data"
    }
   ],
   "source": [
    "plt.figure(figsize = (6,6))\n",
    "plt.xticks(rotation=90)\n",
    "plt.title('entity count ')\n",
    "sns.countplot(data=data,x=\"has_entity\")"
   ]
  },
  {
   "cell_type": "code",
   "execution_count": 19,
   "metadata": {},
   "outputs": [
    {
     "data": {
      "text/plain": [
       "<AxesSubplot:title={'center':'editor count'}, xlabel='last_editor_gender', ylabel='count'>"
      ]
     },
     "execution_count": 19,
     "metadata": {},
     "output_type": "execute_result"
    },
    {
     "data": {
      "image/png": "[encoded data removed]",
      "text/plain": [
       "<Figure size 600x600 with 1 Axes>"
      ]
     },
     "metadata": {},
     "output_type": "display_data"
    }
   ],
   "source": [
    "plt.figure(figsize = (6,6))\n",
    "plt.xticks(rotation=90)\n",
    "plt.title('editor count')\n",
    "sns.countplot(data=data,x=\"last_editor_gender\")"
   ]
  },
  {
   "cell_type": "code",
   "execution_count": 20,
   "metadata": {},
   "outputs": [
    {
     "data": {
      "text/plain": [
       "<AxesSubplot:title={'center':'category count'}, xlabel='category', ylabel='count'>"
      ]
     },
     "execution_count": 20,
     "metadata": {},
     "output_type": "execute_result"
    },
    {
     "data": {
      "image/png": "[encoded data removed]",
      "text/plain": [
       "<Figure size 600x600 with 1 Axes>"
      ]
     },
     "metadata": {},
     "output_type": "display_data"
    }
   ],
   "source": [
    "plt.figure(figsize = (6,6))\n",
    "plt.xticks(rotation=90)\n",
    "plt.title('category count')\n",
    "sns.countplot(data=data,x=\"category\")"
   ]
  },
  {
   "cell_type": "code",
   "execution_count": 21,
   "metadata": {},
   "outputs": [
    {
     "name": "stdout",
     "output_type": "stream",
     "text": [
      "Length of data: 9132\n"
     ]
    }
   ],
   "source": [
    "print(f'Length of data: {len(data)}')"
   ]
  },
  {
   "cell_type": "code",
   "execution_count": 22,
   "metadata": {},
   "outputs": [
    {
     "name": "stdout",
     "output_type": "stream",
     "text": [
      "Number of duplicates in the data: 0\n"
     ]
    }
   ],
   "source": [
    "print(f\"Number of duplicates in the data: {data.duplicated().sum()}\")"
   ]
  },
  {
   "cell_type": "code",
   "execution_count": 23,
   "metadata": {},
   "outputs": [
    {
     "data": {
      "text/plain": [
       "category\n",
       "biographies                             2960\n",
       "philosophy                              2524\n",
       "programming                             1948\n",
       "artificial intelligence                 1537\n",
       "movies about artificial intelligence     163\n",
       "Name: count, dtype: int64"
      ]
     },
     "execution_count": 23,
     "metadata": {},
     "output_type": "execute_result"
    }
   ],
   "source": [
    "data.category.value_counts()"
   ]
  },
  {
   "cell_type": "code",
   "execution_count": 24,
   "metadata": {},
   "outputs": [
    {
     "data": {
      "text/plain": [
       "has_entity\n",
       "ORG_YES_PRODUCT_NO_PERSON_YES_     3020\n",
       "ORG_NO_PRODUCT_NO_PERSON_NO_       2793\n",
       "ORG_YES_PRODUCT_NO_PERSON_NO_      1448\n",
       "ORG_NO_PRODUCT_NO_PERSON_YES_      1349\n",
       "ORG_YES_PRODUCT_YES_PERSON_YES_     292\n",
       "ORG_YES_PRODUCT_YES_PERSON_NO_      124\n",
       "ORG_NO_PRODUCT_YES_PERSON_YES_       64\n",
       "ORG_NO_PRODUCT_YES_PERSON_NO_        42\n",
       "Name: count, dtype: int64"
      ]
     },
     "execution_count": 24,
     "metadata": {},
     "output_type": "execute_result"
    }
   ],
   "source": [
    "data.has_entity.value_counts()"
   ]
  },
  {
   "cell_type": "code",
   "execution_count": 25,
   "metadata": {},
   "outputs": [
    {
     "name": "stdout",
     "output_type": "stream",
     "text": [
      "par_id                0\n",
      "paragraph             0\n",
      "has_entity            0\n",
      "lexicon_count         0\n",
      "difficult_words       0\n",
      "last_editor_gender    0\n",
      "category              0\n",
      "text_clarity          0\n",
      "dtype: int64\n"
     ]
    }
   ],
   "source": [
    "# missing values\n",
    "print(data.isna().sum())"
   ]
  },
  {
   "cell_type": "code",
   "execution_count": null,
   "metadata": {},
   "outputs": [],
   "source": []
  },
  {
   "cell_type": "code",
   "execution_count": 26,
   "metadata": {
    "colab": {
     "base_uri": "https://localhost:8080/"
    },
    "id": "1oITcr8Alqbc",
    "outputId": "9d6ff000-af8c-41a3-e54d-06152de18878"
   },
   "outputs": [
    {
     "name": "stdout",
     "output_type": "stream",
     "text": [
      "Category names are:\n",
      "['artificial intelligence', 'biographies', 'movies about artificial intelligence', 'philosophy', 'programming']\n",
      "\n",
      "Category names and corresponding labels are:\n",
      "[('artificial intelligence', 0), ('biographies', 1), ('movies about artificial intelligence', 2), ('philosophy', 3), ('programming', 4)]\n"
     ]
    }
   ],
   "source": [
    "print('Category names are:')\n",
    "Categories =['artificial intelligence','biographies','movies about artificial intelligence','philosophy','programming']\n",
    "\n",
    "print(Categories)\n",
    "print()\n",
    "print('Category names and corresponding labels are:')\n",
    "print([(v, k) for k, v in enumerate(Categories)])"
   ]
  },
  {
   "cell_type": "markdown",
   "metadata": {},
   "source": [
    "## Data Cleaning"
   ]
  },
  {
   "cell_type": "code",
   "execution_count": 27,
   "metadata": {},
   "outputs": [
    {
     "data": {
      "text/plain": [
       "has_entity\n",
       "ORG_YES_PRODUCT_NO_PERSON_YES_     3020\n",
       "ORG_NO_PRODUCT_NO_PERSON_NO_       2793\n",
       "ORG_YES_PRODUCT_NO_PERSON_NO_      1448\n",
       "ORG_NO_PRODUCT_NO_PERSON_YES_      1349\n",
       "ORG_YES_PRODUCT_YES_PERSON_YES_     292\n",
       "ORG_YES_PRODUCT_YES_PERSON_NO_      124\n",
       "ORG_NO_PRODUCT_YES_PERSON_YES_       64\n",
       "ORG_NO_PRODUCT_YES_PERSON_NO_        42\n",
       "Name: count, dtype: int64"
      ]
     },
     "execution_count": 27,
     "metadata": {},
     "output_type": "execute_result"
    }
   ],
   "source": [
    "data.has_entity.value_counts()"
   ]
  },
  {
   "cell_type": "code",
   "execution_count": 28,
   "metadata": {},
   "outputs": [],
   "source": [
    "# replacing data missing value into nall value\n",
    "data.loc[data.has_entity=='data missing','has_entity'] = np.nan"
   ]
  },
  {
   "cell_type": "code",
   "execution_count": 29,
   "metadata": {},
   "outputs": [
    {
     "data": {
      "text/plain": [
       "category\n",
       "biographies                             2960\n",
       "philosophy                              2524\n",
       "programming                             1948\n",
       "artificial intelligence                 1537\n",
       "movies about artificial intelligence     163\n",
       "Name: count, dtype: int64"
      ]
     },
     "execution_count": 29,
     "metadata": {},
     "output_type": "execute_result"
    }
   ],
   "source": [
    "data.category.value_counts()"
   ]
  },
  {
   "cell_type": "code",
   "execution_count": 30,
   "metadata": {},
   "outputs": [],
   "source": [
    "# transform all the categories name into lower case\n",
    "data.loc[data.category=='Artificial intelligence','category'] = 'artificial intelligence'\n",
    "data.loc[data.category=='Philosophy','category'] = 'philosophy'\n",
    "data.loc[data.category=='Biographies','category'] = 'biographies'\n",
    "data.loc[data.category=='Programming','category'] = 'programming'\n",
    "data.loc[data.category=='Movies about artificial intelligence','category'] = 'movies about artificial intelligence'"
   ]
  },
  {
   "cell_type": "code",
   "execution_count": 31,
   "metadata": {},
   "outputs": [
    {
     "data": {
      "text/plain": [
       "category\n",
       "biographies                             2960\n",
       "philosophy                              2524\n",
       "programming                             1948\n",
       "artificial intelligence                 1537\n",
       "movies about artificial intelligence     163\n",
       "Name: count, dtype: int64"
      ]
     },
     "execution_count": 31,
     "metadata": {},
     "output_type": "execute_result"
    }
   ],
   "source": [
    "data.category.value_counts()"
   ]
  },
  {
   "cell_type": "markdown",
   "metadata": {},
   "source": [
    "### Filling in Missing Data "
   ]
  },
  {
   "cell_type": "code",
   "execution_count": 32,
   "metadata": {},
   "outputs": [
    {
     "name": "stdout",
     "output_type": "stream",
     "text": [
      "par_id                0\n",
      "paragraph             0\n",
      "has_entity            0\n",
      "lexicon_count         0\n",
      "difficult_words       0\n",
      "last_editor_gender    0\n",
      "category              0\n",
      "text_clarity          0\n",
      "dtype: int64\n"
     ]
    }
   ],
   "source": [
    "# Imputation of numerical missing values\n",
    "imptr_cat=SimpleImputer(missing_values=np.nan, strategy='mean')\n",
    "imptr_cat=imptr_cat.fit(data[numerical_columns])\n",
    "data[numerical_columns]=imptr_cat.transform(data[numerical_columns])\n",
    "print(data.isnull().sum())"
   ]
  },
  {
   "cell_type": "code",
   "execution_count": 33,
   "metadata": {},
   "outputs": [
    {
     "name": "stdout",
     "output_type": "stream",
     "text": [
      "par_id                0\n",
      "paragraph             0\n",
      "has_entity            0\n",
      "lexicon_count         0\n",
      "difficult_words       0\n",
      "last_editor_gender    0\n",
      "category              0\n",
      "text_clarity          0\n",
      "dtype: int64\n"
     ]
    }
   ],
   "source": [
    "# Imputation of categorical missing values\n",
    "imptr_cat=SimpleImputer(missing_values=np.nan, strategy='most_frequent')\n",
    "imptr_cat=imptr_cat.fit(data[categorical_columns])\n",
    "data[categorical_columns]=imptr_cat.transform(data[categorical_columns])\n",
    "print(data.isnull().sum())"
   ]
  },
  {
   "cell_type": "code",
   "execution_count": null,
   "metadata": {},
   "outputs": [],
   "source": []
  },
  {
   "cell_type": "markdown",
   "metadata": {},
   "source": [
    "### Text pre-processing"
   ]
  },
  {
   "cell_type": "markdown",
   "metadata": {},
   "source": [
    "#### Text cleaning"
   ]
  },
  {
   "cell_type": "code",
   "execution_count": 34,
   "metadata": {},
   "outputs": [],
   "source": [
    "# Making a function for text cleaning\n",
    "\n",
    "from cleantext import clean\n",
    "\n",
    "def clean_text(x):\n",
    "  return clean(x,\n",
    "    fix_unicode=True,               \n",
    "    lower=True,                     \n",
    "    no_line_breaks=True,           \n",
    "    no_punct=False,                 \n",
    "    no_urls=True,                  \n",
    "    replace_with_url=\"\",          \n",
    "    no_emails=True,                \n",
    "    replace_with_email=\"\",        \n",
    "    no_phone_numbers=True,         \n",
    "    replace_with_phone_number=\"\",   \n",
    "    lang=\"en\"                       \n",
    "    )"
   ]
  },
  {
   "cell_type": "code",
   "execution_count": 35,
   "metadata": {},
   "outputs": [],
   "source": [
    "# Add a new column with the of paragraph after cleaning the text\n",
    "data['clean_text']= data['paragraph'].apply(clean_text)"
   ]
  },
  {
   "cell_type": "code",
   "execution_count": 36,
   "metadata": {},
   "outputs": [],
   "source": [
    "# Add a new column for the length of each text string\n",
    "data['text_length'] = data['clean_text'].apply(len)"
   ]
  },
  {
   "cell_type": "code",
   "execution_count": 37,
   "metadata": {},
   "outputs": [
    {
     "data": {
      "text/html": [
       "<div>\n",
       "<style scoped>\n",
       "    .dataframe tbody tr th:only-of-type {\n",
       "        vertical-align: middle;\n",
       "    }\n",
       "\n",
       "    .dataframe tbody tr th {\n",
       "        vertical-align: top;\n",
       "    }\n",
       "\n",
       "    .dataframe thead th {\n",
       "        text-align: right;\n",
       "    }\n",
       "</style>\n",
       "<table border=\"1\" class=\"dataframe\">\n",
       "  <thead>\n",
       "    <tr style=\"text-align: right;\">\n",
       "      <th></th>\n",
       "      <th>par_id</th>\n",
       "      <th>paragraph</th>\n",
       "      <th>has_entity</th>\n",
       "      <th>lexicon_count</th>\n",
       "      <th>difficult_words</th>\n",
       "      <th>last_editor_gender</th>\n",
       "      <th>category</th>\n",
       "      <th>text_clarity</th>\n",
       "      <th>clean_text</th>\n",
       "      <th>text_length</th>\n",
       "    </tr>\n",
       "  </thead>\n",
       "  <tbody>\n",
       "    <tr>\n",
       "      <th>0</th>\n",
       "      <td>428209002237</td>\n",
       "      <td>Ramsay was born in Glasgow on 2 October 1852. ...</td>\n",
       "      <td>ORG_YES_PRODUCT_NO_PERSON_YES_</td>\n",
       "      <td>49.0</td>\n",
       "      <td>12.0</td>\n",
       "      <td>man</td>\n",
       "      <td>biographies</td>\n",
       "      <td>clear_enough</td>\n",
       "      <td>ramsay was born in glasgow on 2 october 1852. ...</td>\n",
       "      <td>283</td>\n",
       "    </tr>\n",
       "    <tr>\n",
       "      <th>1</th>\n",
       "      <td>564218010072</td>\n",
       "      <td>It has been widely estimated for at least the ...</td>\n",
       "      <td>ORG_YES_PRODUCT_NO_PERSON_NO_</td>\n",
       "      <td>166.0</td>\n",
       "      <td>47.0</td>\n",
       "      <td>man</td>\n",
       "      <td>artificial intelligence</td>\n",
       "      <td>not_clear_enough</td>\n",
       "      <td>it has been widely estimated for at least the ...</td>\n",
       "      <td>1037</td>\n",
       "    </tr>\n",
       "    <tr>\n",
       "      <th>2</th>\n",
       "      <td>291401001672</td>\n",
       "      <td>He went on to win the Royal Medal of the Royal...</td>\n",
       "      <td>ORG_YES_PRODUCT_NO_PERSON_NO_</td>\n",
       "      <td>69.0</td>\n",
       "      <td>18.0</td>\n",
       "      <td>non-binary</td>\n",
       "      <td>biographies</td>\n",
       "      <td>clear_enough</td>\n",
       "      <td>he went on to win the royal medal of the royal...</td>\n",
       "      <td>423</td>\n",
       "    </tr>\n",
       "    <tr>\n",
       "      <th>3</th>\n",
       "      <td>31548004883</td>\n",
       "      <td>The changes have altered many underlying assum...</td>\n",
       "      <td>ORG_NO_PRODUCT_YES_PERSON_NO_</td>\n",
       "      <td>76.0</td>\n",
       "      <td>27.0</td>\n",
       "      <td>non-binary</td>\n",
       "      <td>programming</td>\n",
       "      <td>clear_enough</td>\n",
       "      <td>the changes have altered many underlying assum...</td>\n",
       "      <td>514</td>\n",
       "    </tr>\n",
       "    <tr>\n",
       "      <th>4</th>\n",
       "      <td>50634005146</td>\n",
       "      <td>After these novels were published, Disraeli de...</td>\n",
       "      <td>ORG_YES_PRODUCT_YES_PERSON_YES_</td>\n",
       "      <td>200.0</td>\n",
       "      <td>47.0</td>\n",
       "      <td>man</td>\n",
       "      <td>biographies</td>\n",
       "      <td>not_clear_enough</td>\n",
       "      <td>after these novels were published, disraeli de...</td>\n",
       "      <td>1235</td>\n",
       "    </tr>\n",
       "    <tr>\n",
       "      <th>5</th>\n",
       "      <td>220520007895</td>\n",
       "      <td>Philo also proposes that the order in nature m...</td>\n",
       "      <td>ORG_NO_PRODUCT_NO_PERSON_NO_</td>\n",
       "      <td>137.0</td>\n",
       "      <td>36.0</td>\n",
       "      <td>man</td>\n",
       "      <td>philosophy</td>\n",
       "      <td>clear_enough</td>\n",
       "      <td>philo also proposes that the order in nature m...</td>\n",
       "      <td>798</td>\n",
       "    </tr>\n",
       "    <tr>\n",
       "      <th>6</th>\n",
       "      <td>6360003753</td>\n",
       "      <td>This led to the AI spring of the early 2020s,...</td>\n",
       "      <td>ORG_YES_PRODUCT_NO_PERSON_NO_</td>\n",
       "      <td>116.0</td>\n",
       "      <td>47.0</td>\n",
       "      <td>man</td>\n",
       "      <td>artificial intelligence</td>\n",
       "      <td>not_clear_enough</td>\n",
       "      <td>this led to the ai spring of the early 2020s, ...</td>\n",
       "      <td>886</td>\n",
       "    </tr>\n",
       "    <tr>\n",
       "      <th>7</th>\n",
       "      <td>848119011941</td>\n",
       "      <td>A second form of functionalism is based on the...</td>\n",
       "      <td>ORG_YES_PRODUCT_NO_PERSON_YES_</td>\n",
       "      <td>42.0</td>\n",
       "      <td>14.0</td>\n",
       "      <td>man</td>\n",
       "      <td>philosophy</td>\n",
       "      <td>clear_enough</td>\n",
       "      <td>a second form of functionalism is based on the...</td>\n",
       "      <td>277</td>\n",
       "    </tr>\n",
       "    <tr>\n",
       "      <th>8</th>\n",
       "      <td>49279000639</td>\n",
       "      <td>The opposite of \"moral\" is \"immoral\", meaning ...</td>\n",
       "      <td>ORG_NO_PRODUCT_NO_PERSON_NO_</td>\n",
       "      <td>51.0</td>\n",
       "      <td>8.0</td>\n",
       "      <td>man</td>\n",
       "      <td>philosophy</td>\n",
       "      <td>clear_enough</td>\n",
       "      <td>the opposite of \"moral\" is \"immoral\", meaning ...</td>\n",
       "      <td>275</td>\n",
       "    </tr>\n",
       "    <tr>\n",
       "      <th>9</th>\n",
       "      <td>79225005859</td>\n",
       "      <td>Pepys' diary provides a first-hand account of ...</td>\n",
       "      <td>ORG_NO_PRODUCT_YES_PERSON_YES_</td>\n",
       "      <td>139.0</td>\n",
       "      <td>31.0</td>\n",
       "      <td>man</td>\n",
       "      <td>biographies</td>\n",
       "      <td>not_clear_enough</td>\n",
       "      <td>pepys' diary provides a first-hand account of ...</td>\n",
       "      <td>856</td>\n",
       "    </tr>\n",
       "  </tbody>\n",
       "</table>\n",
       "</div>"
      ],
      "text/plain": [
       "         par_id                                          paragraph  \\\n",
       "0  428209002237  Ramsay was born in Glasgow on 2 October 1852. ...   \n",
       "1  564218010072  It has been widely estimated for at least the ...   \n",
       "2  291401001672  He went on to win the Royal Medal of the Royal...   \n",
       "3   31548004883  The changes have altered many underlying assum...   \n",
       "4   50634005146  After these novels were published, Disraeli de...   \n",
       "5  220520007895  Philo also proposes that the order in nature m...   \n",
       "6    6360003753   This led to the AI spring of the early 2020s,...   \n",
       "7  848119011941  A second form of functionalism is based on the...   \n",
       "8   49279000639  The opposite of \"moral\" is \"immoral\", meaning ...   \n",
       "9   79225005859  Pepys' diary provides a first-hand account of ...   \n",
       "\n",
       "                        has_entity  lexicon_count  difficult_words  \\\n",
       "0   ORG_YES_PRODUCT_NO_PERSON_YES_           49.0             12.0   \n",
       "1    ORG_YES_PRODUCT_NO_PERSON_NO_          166.0             47.0   \n",
       "2    ORG_YES_PRODUCT_NO_PERSON_NO_           69.0             18.0   \n",
       "3    ORG_NO_PRODUCT_YES_PERSON_NO_           76.0             27.0   \n",
       "4  ORG_YES_PRODUCT_YES_PERSON_YES_          200.0             47.0   \n",
       "5     ORG_NO_PRODUCT_NO_PERSON_NO_          137.0             36.0   \n",
       "6    ORG_YES_PRODUCT_NO_PERSON_NO_          116.0             47.0   \n",
       "7   ORG_YES_PRODUCT_NO_PERSON_YES_           42.0             14.0   \n",
       "8     ORG_NO_PRODUCT_NO_PERSON_NO_           51.0              8.0   \n",
       "9   ORG_NO_PRODUCT_YES_PERSON_YES_          139.0             31.0   \n",
       "\n",
       "  last_editor_gender                 category      text_clarity  \\\n",
       "0                man              biographies      clear_enough   \n",
       "1                man  artificial intelligence  not_clear_enough   \n",
       "2         non-binary              biographies      clear_enough   \n",
       "3         non-binary              programming      clear_enough   \n",
       "4                man              biographies  not_clear_enough   \n",
       "5                man               philosophy      clear_enough   \n",
       "6                man  artificial intelligence  not_clear_enough   \n",
       "7                man               philosophy      clear_enough   \n",
       "8                man               philosophy      clear_enough   \n",
       "9                man              biographies  not_clear_enough   \n",
       "\n",
       "                                          clean_text  text_length  \n",
       "0  ramsay was born in glasgow on 2 october 1852. ...          283  \n",
       "1  it has been widely estimated for at least the ...         1037  \n",
       "2  he went on to win the royal medal of the royal...          423  \n",
       "3  the changes have altered many underlying assum...          514  \n",
       "4  after these novels were published, disraeli de...         1235  \n",
       "5  philo also proposes that the order in nature m...          798  \n",
       "6  this led to the ai spring of the early 2020s, ...          886  \n",
       "7  a second form of functionalism is based on the...          277  \n",
       "8  the opposite of \"moral\" is \"immoral\", meaning ...          275  \n",
       "9  pepys' diary provides a first-hand account of ...          856  "
      ]
     },
     "execution_count": 37,
     "metadata": {},
     "output_type": "execute_result"
    }
   ],
   "source": [
    "data.head(10)"
   ]
  },
  {
   "cell_type": "code",
   "execution_count": 38,
   "metadata": {},
   "outputs": [
    {
     "data": {
      "text/plain": [
       "0"
      ]
     },
     "execution_count": 38,
     "metadata": {},
     "output_type": "execute_result"
    }
   ],
   "source": [
    "# Duplicate\n",
    "data.duplicated().sum()"
   ]
  },
  {
   "cell_type": "code",
   "execution_count": 39,
   "metadata": {},
   "outputs": [],
   "source": [
    "# Removing duplicates\n",
    "\n",
    "data=data.drop_duplicates()"
   ]
  },
  {
   "cell_type": "code",
   "execution_count": 40,
   "metadata": {},
   "outputs": [
    {
     "data": {
      "text/plain": [
       "0"
      ]
     },
     "execution_count": 40,
     "metadata": {},
     "output_type": "execute_result"
    }
   ],
   "source": [
    "data.duplicated().sum()"
   ]
  },
  {
   "cell_type": "code",
   "execution_count": 41,
   "metadata": {},
   "outputs": [
    {
     "name": "stdout",
     "output_type": "stream",
     "text": [
      "par_id                0\n",
      "paragraph             0\n",
      "has_entity            0\n",
      "lexicon_count         0\n",
      "difficult_words       0\n",
      "last_editor_gender    0\n",
      "category              0\n",
      "text_clarity          0\n",
      "clean_text            0\n",
      "text_length           0\n",
      "dtype: int64\n"
     ]
    }
   ],
   "source": [
    "# missing values\n",
    "print(data.isna().sum())"
   ]
  },
  {
   "cell_type": "code",
   "execution_count": null,
   "metadata": {},
   "outputs": [],
   "source": []
  },
  {
   "cell_type": "markdown",
   "metadata": {},
   "source": [
    "# Identify Categories"
   ]
  },
  {
   "cell_type": "markdown",
   "metadata": {},
   "source": [
    "#### Making a DataFrame for identifying the topic of paragraph  (task-1)"
   ]
  },
  {
   "cell_type": "code",
   "execution_count": 42,
   "metadata": {},
   "outputs": [],
   "source": [
    "data_1=data[['clean_text','has_entity','text_length','category']].copy()"
   ]
  },
  {
   "cell_type": "code",
   "execution_count": 43,
   "metadata": {},
   "outputs": [
    {
     "data": {
      "text/html": [
       "<div>\n",
       "<style scoped>\n",
       "    .dataframe tbody tr th:only-of-type {\n",
       "        vertical-align: middle;\n",
       "    }\n",
       "\n",
       "    .dataframe tbody tr th {\n",
       "        vertical-align: top;\n",
       "    }\n",
       "\n",
       "    .dataframe thead th {\n",
       "        text-align: right;\n",
       "    }\n",
       "</style>\n",
       "<table border=\"1\" class=\"dataframe\">\n",
       "  <thead>\n",
       "    <tr style=\"text-align: right;\">\n",
       "      <th></th>\n",
       "      <th>clean_text</th>\n",
       "      <th>has_entity</th>\n",
       "      <th>text_length</th>\n",
       "      <th>category</th>\n",
       "    </tr>\n",
       "  </thead>\n",
       "  <tbody>\n",
       "    <tr>\n",
       "      <th>0</th>\n",
       "      <td>ramsay was born in glasgow on 2 october 1852. ...</td>\n",
       "      <td>ORG_YES_PRODUCT_NO_PERSON_YES_</td>\n",
       "      <td>283</td>\n",
       "      <td>biographies</td>\n",
       "    </tr>\n",
       "    <tr>\n",
       "      <th>1</th>\n",
       "      <td>it has been widely estimated for at least the ...</td>\n",
       "      <td>ORG_YES_PRODUCT_NO_PERSON_NO_</td>\n",
       "      <td>1037</td>\n",
       "      <td>artificial intelligence</td>\n",
       "    </tr>\n",
       "    <tr>\n",
       "      <th>2</th>\n",
       "      <td>he went on to win the royal medal of the royal...</td>\n",
       "      <td>ORG_YES_PRODUCT_NO_PERSON_NO_</td>\n",
       "      <td>423</td>\n",
       "      <td>biographies</td>\n",
       "    </tr>\n",
       "    <tr>\n",
       "      <th>3</th>\n",
       "      <td>the changes have altered many underlying assum...</td>\n",
       "      <td>ORG_NO_PRODUCT_YES_PERSON_NO_</td>\n",
       "      <td>514</td>\n",
       "      <td>programming</td>\n",
       "    </tr>\n",
       "    <tr>\n",
       "      <th>4</th>\n",
       "      <td>after these novels were published, disraeli de...</td>\n",
       "      <td>ORG_YES_PRODUCT_YES_PERSON_YES_</td>\n",
       "      <td>1235</td>\n",
       "      <td>biographies</td>\n",
       "    </tr>\n",
       "  </tbody>\n",
       "</table>\n",
       "</div>"
      ],
      "text/plain": [
       "                                          clean_text  \\\n",
       "0  ramsay was born in glasgow on 2 october 1852. ...   \n",
       "1  it has been widely estimated for at least the ...   \n",
       "2  he went on to win the royal medal of the royal...   \n",
       "3  the changes have altered many underlying assum...   \n",
       "4  after these novels were published, disraeli de...   \n",
       "\n",
       "                        has_entity  text_length                 category  \n",
       "0   ORG_YES_PRODUCT_NO_PERSON_YES_          283              biographies  \n",
       "1    ORG_YES_PRODUCT_NO_PERSON_NO_         1037  artificial intelligence  \n",
       "2    ORG_YES_PRODUCT_NO_PERSON_NO_          423              biographies  \n",
       "3    ORG_NO_PRODUCT_YES_PERSON_NO_          514              programming  \n",
       "4  ORG_YES_PRODUCT_YES_PERSON_YES_         1235              biographies  "
      ]
     },
     "execution_count": 43,
     "metadata": {},
     "output_type": "execute_result"
    }
   ],
   "source": [
    "data_1.head()"
   ]
  },
  {
   "cell_type": "code",
   "execution_count": 44,
   "metadata": {},
   "outputs": [
    {
     "name": "stdout",
     "output_type": "stream",
     "text": [
      "<class 'pandas.core.frame.DataFrame'>\n",
      "RangeIndex: 9132 entries, 0 to 9131\n",
      "Data columns (total 4 columns):\n",
      " #   Column       Non-Null Count  Dtype \n",
      "---  ------       --------------  ----- \n",
      " 0   clean_text   9132 non-null   object\n",
      " 1   has_entity   9132 non-null   object\n",
      " 2   text_length  9132 non-null   int64 \n",
      " 3   category     9132 non-null   object\n",
      "dtypes: int64(1), object(3)\n",
      "memory usage: 285.5+ KB\n"
     ]
    }
   ],
   "source": [
    "data_1.info()"
   ]
  },
  {
   "cell_type": "code",
   "execution_count": 45,
   "metadata": {},
   "outputs": [
    {
     "name": "stdout",
     "output_type": "stream",
     "text": [
      "82\n"
     ]
    }
   ],
   "source": [
    "print(data_1.duplicated().sum())"
   ]
  },
  {
   "cell_type": "code",
   "execution_count": 46,
   "metadata": {},
   "outputs": [],
   "source": [
    "data_1=data_1.drop_duplicates()"
   ]
  },
  {
   "cell_type": "code",
   "execution_count": 47,
   "metadata": {},
   "outputs": [
    {
     "name": "stdout",
     "output_type": "stream",
     "text": [
      "0\n"
     ]
    }
   ],
   "source": [
    "print(data_1.duplicated().sum())"
   ]
  },
  {
   "cell_type": "markdown",
   "metadata": {},
   "source": [
    "#### Data spliting"
   ]
  },
  {
   "cell_type": "code",
   "execution_count": 48,
   "metadata": {},
   "outputs": [],
   "source": [
    "df_train, df_test = train_test_split(data_1, test_size=0.1,shuffle=True, stratify = data_1['category'], random_state=42)"
   ]
  },
  {
   "cell_type": "code",
   "execution_count": 49,
   "metadata": {},
   "outputs": [
    {
     "data": {
      "text/plain": [
       "category\n",
       "biographies                             2639\n",
       "philosophy                              2237\n",
       "programming                             1746\n",
       "artificial intelligence                 1376\n",
       "movies about artificial intelligence     147\n",
       "Name: count, dtype: int64"
      ]
     },
     "execution_count": 49,
     "metadata": {},
     "output_type": "execute_result"
    }
   ],
   "source": [
    "df_train.category.value_counts()"
   ]
  },
  {
   "cell_type": "markdown",
   "metadata": {},
   "source": [
    "## Data Encoding"
   ]
  },
  {
   "cell_type": "code",
   "execution_count": 50,
   "metadata": {},
   "outputs": [],
   "source": [
    "cat_columns=['has_entity','category']"
   ]
  },
  {
   "cell_type": "code",
   "execution_count": 51,
   "metadata": {},
   "outputs": [],
   "source": [
    "# Encoding 'has_entity' and 'category' columns by LabelEncoder\n",
    "from sklearn.compose import ColumnTransformer\n",
    "from sklearn.preprocessing import LabelEncoder\n",
    "from sklearn.preprocessing import OneHotEncoder\n",
    "df_train[cat_columns] = df_train[cat_columns].apply(LabelEncoder().fit_transform)\n",
    "df_test[cat_columns] = df_test[cat_columns].apply(LabelEncoder().fit_transform)"
   ]
  },
  {
   "cell_type": "code",
   "execution_count": 52,
   "metadata": {},
   "outputs": [
    {
     "data": {
      "text/plain": [
       "category\n",
       "1    2639\n",
       "3    2237\n",
       "4    1746\n",
       "0    1376\n",
       "2     147\n",
       "Name: count, dtype: int64"
      ]
     },
     "execution_count": 52,
     "metadata": {},
     "output_type": "execute_result"
    }
   ],
   "source": [
    "df_train.category.value_counts()"
   ]
  },
  {
   "cell_type": "code",
   "execution_count": 53,
   "metadata": {},
   "outputs": [
    {
     "data": {
      "text/html": [
       "<div>\n",
       "<style scoped>\n",
       "    .dataframe tbody tr th:only-of-type {\n",
       "        vertical-align: middle;\n",
       "    }\n",
       "\n",
       "    .dataframe tbody tr th {\n",
       "        vertical-align: top;\n",
       "    }\n",
       "\n",
       "    .dataframe thead th {\n",
       "        text-align: right;\n",
       "    }\n",
       "</style>\n",
       "<table border=\"1\" class=\"dataframe\">\n",
       "  <thead>\n",
       "    <tr style=\"text-align: right;\">\n",
       "      <th></th>\n",
       "      <th>clean_text</th>\n",
       "      <th>has_entity</th>\n",
       "      <th>text_length</th>\n",
       "      <th>category</th>\n",
       "    </tr>\n",
       "  </thead>\n",
       "  <tbody>\n",
       "    <tr>\n",
       "      <th>9125</th>\n",
       "      <td>instead of console.writeline, one could use ms...</td>\n",
       "      <td>6</td>\n",
       "      <td>126</td>\n",
       "      <td>4</td>\n",
       "    </tr>\n",
       "    <tr>\n",
       "      <th>3615</th>\n",
       "      <td>the user of the term imagines a kind of indepe...</td>\n",
       "      <td>0</td>\n",
       "      <td>211</td>\n",
       "      <td>3</td>\n",
       "    </tr>\n",
       "    <tr>\n",
       "      <th>4620</th>\n",
       "      <td>in the late 1950s, computer users and manufact...</td>\n",
       "      <td>5</td>\n",
       "      <td>805</td>\n",
       "      <td>4</td>\n",
       "    </tr>\n",
       "    <tr>\n",
       "      <th>1631</th>\n",
       "      <td>sir isaac newton's calculations changed the wa...</td>\n",
       "      <td>1</td>\n",
       "      <td>592</td>\n",
       "      <td>1</td>\n",
       "    </tr>\n",
       "    <tr>\n",
       "      <th>6376</th>\n",
       "      <td>the last of the guard retreated headlong. mass...</td>\n",
       "      <td>5</td>\n",
       "      <td>666</td>\n",
       "      <td>1</td>\n",
       "    </tr>\n",
       "  </tbody>\n",
       "</table>\n",
       "</div>"
      ],
      "text/plain": [
       "                                             clean_text  has_entity  \\\n",
       "9125  instead of console.writeline, one could use ms...           6   \n",
       "3615  the user of the term imagines a kind of indepe...           0   \n",
       "4620  in the late 1950s, computer users and manufact...           5   \n",
       "1631  sir isaac newton's calculations changed the wa...           1   \n",
       "6376  the last of the guard retreated headlong. mass...           5   \n",
       "\n",
       "      text_length  category  \n",
       "9125          126         4  \n",
       "3615          211         3  \n",
       "4620          805         4  \n",
       "1631          592         1  \n",
       "6376          666         1  "
      ]
     },
     "execution_count": 53,
     "metadata": {},
     "output_type": "execute_result"
    }
   ],
   "source": [
    "df_train.head()"
   ]
  },
  {
   "cell_type": "code",
   "execution_count": 54,
   "metadata": {},
   "outputs": [
    {
     "data": {
      "text/html": [
       "<div>\n",
       "<style scoped>\n",
       "    .dataframe tbody tr th:only-of-type {\n",
       "        vertical-align: middle;\n",
       "    }\n",
       "\n",
       "    .dataframe tbody tr th {\n",
       "        vertical-align: top;\n",
       "    }\n",
       "\n",
       "    .dataframe thead th {\n",
       "        text-align: right;\n",
       "    }\n",
       "</style>\n",
       "<table border=\"1\" class=\"dataframe\">\n",
       "  <thead>\n",
       "    <tr style=\"text-align: right;\">\n",
       "      <th></th>\n",
       "      <th>clean_text</th>\n",
       "      <th>has_entity</th>\n",
       "      <th>text_length</th>\n",
       "      <th>category</th>\n",
       "    </tr>\n",
       "  </thead>\n",
       "  <tbody>\n",
       "    <tr>\n",
       "      <th>8681</th>\n",
       "      <td>on february 56, 2017, tax preparation company ...</td>\n",
       "      <td>5</td>\n",
       "      <td>103</td>\n",
       "      <td>0</td>\n",
       "    </tr>\n",
       "    <tr>\n",
       "      <th>2814</th>\n",
       "      <td>in 2020, attenborough narrated the documentary...</td>\n",
       "      <td>5</td>\n",
       "      <td>1197</td>\n",
       "      <td>1</td>\n",
       "    </tr>\n",
       "    <tr>\n",
       "      <th>324</th>\n",
       "      <td>in a letter dated 16 september 1855, lister re...</td>\n",
       "      <td>1</td>\n",
       "      <td>537</td>\n",
       "      <td>1</td>\n",
       "    </tr>\n",
       "    <tr>\n",
       "      <th>2812</th>\n",
       "      <td>as the allied forces' invasion of france and t...</td>\n",
       "      <td>5</td>\n",
       "      <td>1088</td>\n",
       "      <td>1</td>\n",
       "    </tr>\n",
       "    <tr>\n",
       "      <th>6405</th>\n",
       "      <td>falun gong states that karma is the reason for...</td>\n",
       "      <td>5</td>\n",
       "      <td>1347</td>\n",
       "      <td>3</td>\n",
       "    </tr>\n",
       "  </tbody>\n",
       "</table>\n",
       "</div>"
      ],
      "text/plain": [
       "                                             clean_text  has_entity  \\\n",
       "8681  on february 56, 2017, tax preparation company ...           5   \n",
       "2814  in 2020, attenborough narrated the documentary...           5   \n",
       "324   in a letter dated 16 september 1855, lister re...           1   \n",
       "2812  as the allied forces' invasion of france and t...           5   \n",
       "6405  falun gong states that karma is the reason for...           5   \n",
       "\n",
       "      text_length  category  \n",
       "8681          103         0  \n",
       "2814         1197         1  \n",
       "324           537         1  \n",
       "2812         1088         1  \n",
       "6405         1347         3  "
      ]
     },
     "execution_count": 54,
     "metadata": {},
     "output_type": "execute_result"
    }
   ],
   "source": [
    "df_test.head()"
   ]
  },
  {
   "cell_type": "markdown",
   "metadata": {},
   "source": [
    "### Word embeddings"
   ]
  },
  {
   "cell_type": "code",
   "execution_count": 55,
   "metadata": {},
   "outputs": [],
   "source": [
    "\n",
    "import string\n",
    "EXTRA_PUNCT = string.punctuation\n",
    "\n",
    "# import Spacy\n",
    "import spacy\n",
    "\n",
    "# create the Spacy pipeline\n",
    "nlp = spacy.load('en_core_web_md')\n",
    "\n",
    "\n",
    "import string\n",
    "EXTRA_PUNCT = string.punctuation\n",
    "\n",
    "# import Spacy\n",
    "import spacy\n",
    "# create the Spacy pipeline\n",
    "nlp = spacy.load('en_core_web_md')\n",
    "\n",
    "\n",
    "def get_spacy_doc_embedding(text_):\n",
    "\n",
    "  doc_ = nlp(text_)\n",
    "  return doc_.vector\n",
    "\n",
    "def compute_avg_lemma_embedding(text_):\n",
    "  doc_ = nlp(text_)\n",
    "\n",
    "  avg_embedding = np.zeros_like(doc_.vector)\n",
    "  token_counter = 0\n",
    "  for token in doc_:\n",
    "    if (token.is_stop or token.is_punct or token.is_digit or (token.lemma_ in EXTRA_PUNCT)):\n",
    "      continue\n",
    "    avg_embedding += token.vector\n",
    "    token_counter+=1\n",
    "  if token_counter>0:\n",
    "    avg_embedding = avg_embedding/token_counter\n",
    "  return avg_embedding\n"
   ]
  },
  {
   "cell_type": "markdown",
   "metadata": {},
   "source": [
    "Now process the whole dataset and save the results in new columns.\n",
    "\n",
    "Embedding train and test data"
   ]
  },
  {
   "cell_type": "code",
   "execution_count": 56,
   "metadata": {},
   "outputs": [],
   "source": [
    "df_train_emb = df_train['clean_text'].apply(lambda x:  pd.Series(get_spacy_doc_embedding(x)))\n",
    "df_train_new = df_train_emb.join(df_train[['text_length','has_entity','category']])\n",
    "df_train_new.columns = df_train_new.columns.astype(str)"
   ]
  },
  {
   "cell_type": "code",
   "execution_count": 57,
   "metadata": {},
   "outputs": [],
   "source": [
    "df_test_emb = df_test['clean_text'].apply(lambda x: pd.Series(get_spacy_doc_embedding(x)))\n",
    "df_test_new = df_test_emb.join(df_test[['text_length','has_entity','category']])\n",
    "df_test_new.columns = df_test_new.columns.astype(str)"
   ]
  },
  {
   "cell_type": "code",
   "execution_count": 58,
   "metadata": {},
   "outputs": [
    {
     "data": {
      "text/html": [
       "<div>\n",
       "<style scoped>\n",
       "    .dataframe tbody tr th:only-of-type {\n",
       "        vertical-align: middle;\n",
       "    }\n",
       "\n",
       "    .dataframe tbody tr th {\n",
       "        vertical-align: top;\n",
       "    }\n",
       "\n",
       "    .dataframe thead th {\n",
       "        text-align: right;\n",
       "    }\n",
       "</style>\n",
       "<table border=\"1\" class=\"dataframe\">\n",
       "  <thead>\n",
       "    <tr style=\"text-align: right;\">\n",
       "      <th></th>\n",
       "      <th>0</th>\n",
       "      <th>1</th>\n",
       "      <th>2</th>\n",
       "      <th>3</th>\n",
       "      <th>4</th>\n",
       "      <th>5</th>\n",
       "      <th>6</th>\n",
       "      <th>7</th>\n",
       "      <th>8</th>\n",
       "      <th>9</th>\n",
       "      <th>...</th>\n",
       "      <th>293</th>\n",
       "      <th>294</th>\n",
       "      <th>295</th>\n",
       "      <th>296</th>\n",
       "      <th>297</th>\n",
       "      <th>298</th>\n",
       "      <th>299</th>\n",
       "      <th>text_length</th>\n",
       "      <th>has_entity</th>\n",
       "      <th>category</th>\n",
       "    </tr>\n",
       "  </thead>\n",
       "  <tbody>\n",
       "    <tr>\n",
       "      <th>9125</th>\n",
       "      <td>-0.670748</td>\n",
       "      <td>0.290235</td>\n",
       "      <td>-0.189945</td>\n",
       "      <td>-0.019850</td>\n",
       "      <td>-0.141127</td>\n",
       "      <td>0.080337</td>\n",
       "      <td>0.012824</td>\n",
       "      <td>-0.140082</td>\n",
       "      <td>-0.016086</td>\n",
       "      <td>1.665210</td>\n",
       "      <td>...</td>\n",
       "      <td>-0.011437</td>\n",
       "      <td>0.013525</td>\n",
       "      <td>0.064445</td>\n",
       "      <td>-0.016417</td>\n",
       "      <td>-0.103665</td>\n",
       "      <td>0.110901</td>\n",
       "      <td>0.030800</td>\n",
       "      <td>126</td>\n",
       "      <td>6</td>\n",
       "      <td>4</td>\n",
       "    </tr>\n",
       "    <tr>\n",
       "      <th>3615</th>\n",
       "      <td>-0.695268</td>\n",
       "      <td>0.205417</td>\n",
       "      <td>-0.259179</td>\n",
       "      <td>0.034135</td>\n",
       "      <td>-0.098458</td>\n",
       "      <td>0.037987</td>\n",
       "      <td>-0.001104</td>\n",
       "      <td>-0.020563</td>\n",
       "      <td>-0.007654</td>\n",
       "      <td>1.906741</td>\n",
       "      <td>...</td>\n",
       "      <td>-0.077476</td>\n",
       "      <td>-0.022502</td>\n",
       "      <td>0.138042</td>\n",
       "      <td>-0.033195</td>\n",
       "      <td>-0.203286</td>\n",
       "      <td>0.115289</td>\n",
       "      <td>-0.058914</td>\n",
       "      <td>211</td>\n",
       "      <td>0</td>\n",
       "      <td>3</td>\n",
       "    </tr>\n",
       "    <tr>\n",
       "      <th>4620</th>\n",
       "      <td>-0.705843</td>\n",
       "      <td>0.213760</td>\n",
       "      <td>-0.085618</td>\n",
       "      <td>-0.067243</td>\n",
       "      <td>-0.076052</td>\n",
       "      <td>0.003306</td>\n",
       "      <td>0.082253</td>\n",
       "      <td>-0.123562</td>\n",
       "      <td>0.005600</td>\n",
       "      <td>1.764510</td>\n",
       "      <td>...</td>\n",
       "      <td>0.093908</td>\n",
       "      <td>0.026881</td>\n",
       "      <td>0.079248</td>\n",
       "      <td>-0.005889</td>\n",
       "      <td>-0.100024</td>\n",
       "      <td>0.024630</td>\n",
       "      <td>-0.003843</td>\n",
       "      <td>805</td>\n",
       "      <td>5</td>\n",
       "      <td>4</td>\n",
       "    </tr>\n",
       "    <tr>\n",
       "      <th>1631</th>\n",
       "      <td>-0.704639</td>\n",
       "      <td>0.216701</td>\n",
       "      <td>-0.238429</td>\n",
       "      <td>-0.025054</td>\n",
       "      <td>-0.120784</td>\n",
       "      <td>0.038199</td>\n",
       "      <td>-0.000167</td>\n",
       "      <td>-0.025958</td>\n",
       "      <td>0.013460</td>\n",
       "      <td>2.001039</td>\n",
       "      <td>...</td>\n",
       "      <td>-0.023749</td>\n",
       "      <td>0.046199</td>\n",
       "      <td>0.154094</td>\n",
       "      <td>-0.015126</td>\n",
       "      <td>-0.077638</td>\n",
       "      <td>0.075152</td>\n",
       "      <td>-0.023861</td>\n",
       "      <td>592</td>\n",
       "      <td>1</td>\n",
       "      <td>1</td>\n",
       "    </tr>\n",
       "    <tr>\n",
       "      <th>6376</th>\n",
       "      <td>-0.693357</td>\n",
       "      <td>0.185459</td>\n",
       "      <td>-0.087093</td>\n",
       "      <td>0.005667</td>\n",
       "      <td>-0.007130</td>\n",
       "      <td>-0.059025</td>\n",
       "      <td>-0.032717</td>\n",
       "      <td>-0.006363</td>\n",
       "      <td>-0.049786</td>\n",
       "      <td>1.596800</td>\n",
       "      <td>...</td>\n",
       "      <td>-0.087653</td>\n",
       "      <td>-0.007325</td>\n",
       "      <td>0.109741</td>\n",
       "      <td>0.016264</td>\n",
       "      <td>-0.155463</td>\n",
       "      <td>0.026971</td>\n",
       "      <td>-0.038351</td>\n",
       "      <td>666</td>\n",
       "      <td>5</td>\n",
       "      <td>1</td>\n",
       "    </tr>\n",
       "  </tbody>\n",
       "</table>\n",
       "<p>5 rows × 303 columns</p>\n",
       "</div>"
      ],
      "text/plain": [
       "             0         1         2         3         4         5         6  \\\n",
       "9125 -0.670748  0.290235 -0.189945 -0.019850 -0.141127  0.080337  0.012824   \n",
       "3615 -0.695268  0.205417 -0.259179  0.034135 -0.098458  0.037987 -0.001104   \n",
       "4620 -0.705843  0.213760 -0.085618 -0.067243 -0.076052  0.003306  0.082253   \n",
       "1631 -0.704639  0.216701 -0.238429 -0.025054 -0.120784  0.038199 -0.000167   \n",
       "6376 -0.693357  0.185459 -0.087093  0.005667 -0.007130 -0.059025 -0.032717   \n",
       "\n",
       "             7         8         9  ...       293       294       295  \\\n",
       "9125 -0.140082 -0.016086  1.665210  ... -0.011437  0.013525  0.064445   \n",
       "3615 -0.020563 -0.007654  1.906741  ... -0.077476 -0.022502  0.138042   \n",
       "4620 -0.123562  0.005600  1.764510  ...  0.093908  0.026881  0.079248   \n",
       "1631 -0.025958  0.013460  2.001039  ... -0.023749  0.046199  0.154094   \n",
       "6376 -0.006363 -0.049786  1.596800  ... -0.087653 -0.007325  0.109741   \n",
       "\n",
       "           296       297       298       299  text_length  has_entity  \\\n",
       "9125 -0.016417 -0.103665  0.110901  0.030800          126           6   \n",
       "3615 -0.033195 -0.203286  0.115289 -0.058914          211           0   \n",
       "4620 -0.005889 -0.100024  0.024630 -0.003843          805           5   \n",
       "1631 -0.015126 -0.077638  0.075152 -0.023861          592           1   \n",
       "6376  0.016264 -0.155463  0.026971 -0.038351          666           5   \n",
       "\n",
       "      category  \n",
       "9125         4  \n",
       "3615         3  \n",
       "4620         4  \n",
       "1631         1  \n",
       "6376         1  \n",
       "\n",
       "[5 rows x 303 columns]"
      ]
     },
     "execution_count": 58,
     "metadata": {},
     "output_type": "execute_result"
    }
   ],
   "source": [
    "df_train_new.head()"
   ]
  },
  {
   "cell_type": "code",
   "execution_count": null,
   "metadata": {},
   "outputs": [],
   "source": []
  },
  {
   "cell_type": "markdown",
   "metadata": {},
   "source": [
    "## ML model building"
   ]
  },
  {
   "cell_type": "code",
   "execution_count": 59,
   "metadata": {},
   "outputs": [],
   "source": [
    "# Preparation\n",
    "import warnings\n",
    "warnings.simplefilter(\"ignore\")\n",
    "y_train = df_train_new['category']\n",
    "y_test = df_test_new['category']"
   ]
  },
  {
   "cell_type": "code",
   "execution_count": 60,
   "metadata": {},
   "outputs": [
    {
     "name": "stdout",
     "output_type": "stream",
     "text": [
      "<class 'pandas.core.frame.DataFrame'>\n",
      "Index: 8145 entries, 9125 to 1717\n",
      "Columns: 303 entries, 0 to category\n",
      "dtypes: float32(300), int32(2), int64(1)\n",
      "memory usage: 9.8 MB\n"
     ]
    }
   ],
   "source": [
    "df_train_new.info()"
   ]
  },
  {
   "cell_type": "code",
   "execution_count": 61,
   "metadata": {},
   "outputs": [
    {
     "name": "stdout",
     "output_type": "stream",
     "text": [
      "<class 'pandas.core.series.Series'>\n",
      "Index: 8145 entries, 9125 to 1717\n",
      "Series name: category\n",
      "Non-Null Count  Dtype\n",
      "--------------  -----\n",
      "8145 non-null   int32\n",
      "dtypes: int32(1)\n",
      "memory usage: 353.5 KB\n"
     ]
    }
   ],
   "source": [
    "y_train.info()"
   ]
  },
  {
   "cell_type": "code",
   "execution_count": 62,
   "metadata": {},
   "outputs": [],
   "source": [
    "from sklearn.compose import ColumnTransformer\n",
    "from sklearn.preprocessing import StandardScaler, MinMaxScaler\n",
    "\n",
    "ct = ColumnTransformer(\n",
    "    transformers= [\n",
    "        (\n",
    "            \"scaling\",\n",
    "            StandardScaler(),\n",
    "            [\"text_length\"], \n",
    "        )\n",
    "    ],\n",
    "    remainder=\"passthrough\",\n",
    "    verbose_feature_names_out=False \n",
    ")"
   ]
  },
  {
   "cell_type": "code",
   "execution_count": 63,
   "metadata": {},
   "outputs": [],
   "source": [
    "from sklearn.neural_network import MLPClassifier\n",
    "\n",
    "# Create the pipeline\n",
    "clf_ = Pipeline(\n",
    "        steps =[('encoding', ct),\n",
    "              ('clf', MLPClassifier()),\n",
    "      ]\n",
    "    )\n"
   ]
  },
  {
   "cell_type": "code",
   "execution_count": 64,
   "metadata": {},
   "outputs": [],
   "source": [
    "# Set up the hyper-parameters to test\n",
    "hparameters = {'clf__hidden_layer_sizes': ((20,20,),(30,)),\n",
    "              'clf__learning_rate_init': [0.0001, 0.001],\n",
    "             }\n"
   ]
  },
  {
   "cell_type": "code",
   "execution_count": null,
   "metadata": {},
   "outputs": [],
   "source": []
  },
  {
   "cell_type": "markdown",
   "metadata": {},
   "source": [
    "### CV search"
   ]
  },
  {
   "cell_type": "code",
   "execution_count": 65,
   "metadata": {},
   "outputs": [],
   "source": [
    "# creating a function for GridSearch \n",
    "clf_search = GridSearchCV(clf_, hparameters, scoring= \"accuracy\", cv= 5,\n",
    "                          return_train_score=True)\n",
    "\n",
    "\n",
    "_ =clf_search.fit(df_train_new.drop(columns = ['category']), y_train)\n"
   ]
  },
  {
   "cell_type": "code",
   "execution_count": 66,
   "metadata": {},
   "outputs": [
    {
     "name": "stdout",
     "output_type": "stream",
     "text": [
      "0.8521792510742786 {'clf__hidden_layer_sizes': (30,), 'clf__learning_rate_init': 0.001}\n",
      "\n"
     ]
    }
   ],
   "source": [
    "print(clf_search.best_score_, clf_search.best_params_)\n",
    "\n",
    "print()"
   ]
  },
  {
   "cell_type": "code",
   "execution_count": null,
   "metadata": {},
   "outputs": [],
   "source": []
  },
  {
   "cell_type": "markdown",
   "metadata": {},
   "source": [
    "### Evaluation"
   ]
  },
  {
   "cell_type": "markdown",
   "metadata": {},
   "source": [
    "Now I will compare the results on the training and validation folds from the grid search."
   ]
  },
  {
   "cell_type": "code",
   "execution_count": 67,
   "metadata": {},
   "outputs": [
    {
     "data": {
      "text/html": [
       "<div>\n",
       "<style scoped>\n",
       "    .dataframe tbody tr th:only-of-type {\n",
       "        vertical-align: middle;\n",
       "    }\n",
       "\n",
       "    .dataframe tbody tr th {\n",
       "        vertical-align: top;\n",
       "    }\n",
       "\n",
       "    .dataframe thead th {\n",
       "        text-align: right;\n",
       "    }\n",
       "</style>\n",
       "<table border=\"1\" class=\"dataframe\">\n",
       "  <thead>\n",
       "    <tr style=\"text-align: right;\">\n",
       "      <th></th>\n",
       "      <th>mean_test_score</th>\n",
       "      <th>std_test_score</th>\n",
       "      <th>mean_train_score</th>\n",
       "      <th>std_train_score</th>\n",
       "      <th>param_clf__hidden_layer_sizes</th>\n",
       "      <th>param_clf__learning_rate_init</th>\n",
       "    </tr>\n",
       "  </thead>\n",
       "  <tbody>\n",
       "    <tr>\n",
       "      <th>0</th>\n",
       "      <td>0.834009</td>\n",
       "      <td>0.009649</td>\n",
       "      <td>0.849662</td>\n",
       "      <td>0.003471</td>\n",
       "      <td>(20, 20)</td>\n",
       "      <td>0.0001</td>\n",
       "    </tr>\n",
       "    <tr>\n",
       "      <th>1</th>\n",
       "      <td>0.848128</td>\n",
       "      <td>0.016226</td>\n",
       "      <td>0.934561</td>\n",
       "      <td>0.008759</td>\n",
       "      <td>(20, 20)</td>\n",
       "      <td>0.001</td>\n",
       "    </tr>\n",
       "    <tr>\n",
       "      <th>2</th>\n",
       "      <td>0.831553</td>\n",
       "      <td>0.009094</td>\n",
       "      <td>0.843738</td>\n",
       "      <td>0.003022</td>\n",
       "      <td>(30,)</td>\n",
       "      <td>0.0001</td>\n",
       "    </tr>\n",
       "    <tr>\n",
       "      <th>3</th>\n",
       "      <td>0.852179</td>\n",
       "      <td>0.013596</td>\n",
       "      <td>0.926581</td>\n",
       "      <td>0.005130</td>\n",
       "      <td>(30,)</td>\n",
       "      <td>0.001</td>\n",
       "    </tr>\n",
       "  </tbody>\n",
       "</table>\n",
       "</div>"
      ],
      "text/plain": [
       "   mean_test_score  std_test_score  mean_train_score  std_train_score  \\\n",
       "0         0.834009        0.009649          0.849662         0.003471   \n",
       "1         0.848128        0.016226          0.934561         0.008759   \n",
       "2         0.831553        0.009094          0.843738         0.003022   \n",
       "3         0.852179        0.013596          0.926581         0.005130   \n",
       "\n",
       "  param_clf__hidden_layer_sizes param_clf__learning_rate_init  \n",
       "0                      (20, 20)                        0.0001  \n",
       "1                      (20, 20)                         0.001  \n",
       "2                         (30,)                        0.0001  \n",
       "3                         (30,)                         0.001  "
      ]
     },
     "execution_count": 67,
     "metadata": {},
     "output_type": "execute_result"
    }
   ],
   "source": [
    "cv_res = pd.DataFrame(clf_search.cv_results_)\n",
    "interesting_columns = ['mean_test_score','std_test_score','mean_train_score','std_train_score']\n",
    "interesting_columns = interesting_columns + [t for t in cv_res.columns if 'param_' in t]\n",
    "cv_res[interesting_columns]"
   ]
  },
  {
   "cell_type": "markdown",
   "metadata": {},
   "source": [
    "Here the results of training dataset and validation dataset are almost same. So there is no over/under-fitting problem."
   ]
  },
  {
   "cell_type": "code",
   "execution_count": 68,
   "metadata": {},
   "outputs": [],
   "source": [
    "# Find the best estimator\n",
    "best_clf = clf_search.best_estimator_"
   ]
  },
  {
   "cell_type": "code",
   "execution_count": 69,
   "metadata": {},
   "outputs": [
    {
     "name": "stdout",
     "output_type": "stream",
     "text": [
      "                                      precision    recall  f1-score   support\n",
      "\n",
      "             artificial intelligence       0.82      0.82      0.82       153\n",
      "                         biographies       0.90      0.89      0.90       293\n",
      "movies about artificial intelligence       0.94      0.94      0.94        16\n",
      "                          philosophy       0.89      0.86      0.88       249\n",
      "                         programming       0.89      0.93      0.91       194\n",
      "\n",
      "                            accuracy                           0.88       905\n",
      "                           macro avg       0.89      0.89      0.89       905\n",
      "                        weighted avg       0.88      0.88      0.88       905\n",
      "\n"
     ]
    },
    {
     "data": {
      "image/png": "[encoded data removed]",
      "text/plain": [
       "<Figure size 640x480 with 2 Axes>"
      ]
     },
     "metadata": {},
     "output_type": "display_data"
    }
   ],
   "source": [
    "# Finding predictions and evaluation metrics by the best estimator\n",
    "y_pred = best_clf.predict(df_test_new.drop(columns = ['category']))\n",
    "print(classification_report(y_test, y_pred, target_names = Categories))\n",
    "\n",
    "cm= ConfusionMatrixDisplay.from_estimator(best_clf, df_test_new.drop(columns = ['category']), y_test)\n",
    "\n"
   ]
  },
  {
   "cell_type": "markdown",
   "metadata": {},
   "source": [
    "#### Comparison with trivial baseline"
   ]
  },
  {
   "cell_type": "code",
   "execution_count": 70,
   "metadata": {
    "scrolled": true
   },
   "outputs": [
    {
     "name": "stdout",
     "output_type": "stream",
     "text": [
      "                                      precision    recall  f1-score   support\n",
      "\n",
      "             artificial intelligence       0.15      0.19      0.17       153\n",
      "                         biographies       0.31      0.17      0.22       293\n",
      "movies about artificial intelligence       0.01      0.12      0.02        16\n",
      "                          philosophy       0.27      0.18      0.22       249\n",
      "                         programming       0.24      0.23      0.23       194\n",
      "\n",
      "                            accuracy                           0.19       905\n",
      "                           macro avg       0.20      0.18      0.17       905\n",
      "                        weighted avg       0.25      0.19      0.21       905\n",
      "\n"
     ]
    },
    {
     "data": {
      "image/png": "[encoded data removed]",
      "text/plain": [
       "<Figure size 640x480 with 2 Axes>"
      ]
     },
     "metadata": {},
     "output_type": "display_data"
    }
   ],
   "source": [
    "from sklearn.dummy import DummyClassifier\n",
    "trivial_clf = DummyClassifier(strategy=\"uniform\")\n",
    "trivial_clf.fit(df_train_new.drop(columns=['category']), y_train)\n",
    "\n",
    "y_trivial = trivial_clf.predict(df_test_new.drop(columns=['category']))\n",
    "print(classification_report(y_test, y_trivial,target_names = Categories))\n",
    "\n",
    "cm= ConfusionMatrixDisplay.from_estimator(trivial_clf, df_test_new.drop(columns=['category']), y_test)\n",
    "\n"
   ]
  },
  {
   "cell_type": "code",
   "execution_count": null,
   "metadata": {},
   "outputs": [],
   "source": []
  },
  {
   "cell_type": "code",
   "execution_count": null,
   "metadata": {},
   "outputs": [],
   "source": []
  },
  {
   "cell_type": "code",
   "execution_count": null,
   "metadata": {},
   "outputs": [],
   "source": []
  },
  {
   "cell_type": "markdown",
   "metadata": {},
   "source": [
    "# Identify Text Clarity"
   ]
  },
  {
   "cell_type": "code",
   "execution_count": 71,
   "metadata": {},
   "outputs": [
    {
     "data": {
      "text/html": [
       "<div>\n",
       "<style scoped>\n",
       "    .dataframe tbody tr th:only-of-type {\n",
       "        vertical-align: middle;\n",
       "    }\n",
       "\n",
       "    .dataframe tbody tr th {\n",
       "        vertical-align: top;\n",
       "    }\n",
       "\n",
       "    .dataframe thead th {\n",
       "        text-align: right;\n",
       "    }\n",
       "</style>\n",
       "<table border=\"1\" class=\"dataframe\">\n",
       "  <thead>\n",
       "    <tr style=\"text-align: right;\">\n",
       "      <th></th>\n",
       "      <th>par_id</th>\n",
       "      <th>paragraph</th>\n",
       "      <th>has_entity</th>\n",
       "      <th>lexicon_count</th>\n",
       "      <th>difficult_words</th>\n",
       "      <th>last_editor_gender</th>\n",
       "      <th>category</th>\n",
       "      <th>text_clarity</th>\n",
       "      <th>clean_text</th>\n",
       "      <th>text_length</th>\n",
       "    </tr>\n",
       "  </thead>\n",
       "  <tbody>\n",
       "    <tr>\n",
       "      <th>0</th>\n",
       "      <td>428209002237</td>\n",
       "      <td>Ramsay was born in Glasgow on 2 October 1852. ...</td>\n",
       "      <td>ORG_YES_PRODUCT_NO_PERSON_YES_</td>\n",
       "      <td>49.0</td>\n",
       "      <td>12.0</td>\n",
       "      <td>man</td>\n",
       "      <td>biographies</td>\n",
       "      <td>clear_enough</td>\n",
       "      <td>ramsay was born in glasgow on 2 october 1852. ...</td>\n",
       "      <td>283</td>\n",
       "    </tr>\n",
       "    <tr>\n",
       "      <th>1</th>\n",
       "      <td>564218010072</td>\n",
       "      <td>It has been widely estimated for at least the ...</td>\n",
       "      <td>ORG_YES_PRODUCT_NO_PERSON_NO_</td>\n",
       "      <td>166.0</td>\n",
       "      <td>47.0</td>\n",
       "      <td>man</td>\n",
       "      <td>artificial intelligence</td>\n",
       "      <td>not_clear_enough</td>\n",
       "      <td>it has been widely estimated for at least the ...</td>\n",
       "      <td>1037</td>\n",
       "    </tr>\n",
       "    <tr>\n",
       "      <th>2</th>\n",
       "      <td>291401001672</td>\n",
       "      <td>He went on to win the Royal Medal of the Royal...</td>\n",
       "      <td>ORG_YES_PRODUCT_NO_PERSON_NO_</td>\n",
       "      <td>69.0</td>\n",
       "      <td>18.0</td>\n",
       "      <td>non-binary</td>\n",
       "      <td>biographies</td>\n",
       "      <td>clear_enough</td>\n",
       "      <td>he went on to win the royal medal of the royal...</td>\n",
       "      <td>423</td>\n",
       "    </tr>\n",
       "    <tr>\n",
       "      <th>3</th>\n",
       "      <td>31548004883</td>\n",
       "      <td>The changes have altered many underlying assum...</td>\n",
       "      <td>ORG_NO_PRODUCT_YES_PERSON_NO_</td>\n",
       "      <td>76.0</td>\n",
       "      <td>27.0</td>\n",
       "      <td>non-binary</td>\n",
       "      <td>programming</td>\n",
       "      <td>clear_enough</td>\n",
       "      <td>the changes have altered many underlying assum...</td>\n",
       "      <td>514</td>\n",
       "    </tr>\n",
       "    <tr>\n",
       "      <th>4</th>\n",
       "      <td>50634005146</td>\n",
       "      <td>After these novels were published, Disraeli de...</td>\n",
       "      <td>ORG_YES_PRODUCT_YES_PERSON_YES_</td>\n",
       "      <td>200.0</td>\n",
       "      <td>47.0</td>\n",
       "      <td>man</td>\n",
       "      <td>biographies</td>\n",
       "      <td>not_clear_enough</td>\n",
       "      <td>after these novels were published, disraeli de...</td>\n",
       "      <td>1235</td>\n",
       "    </tr>\n",
       "    <tr>\n",
       "      <th>5</th>\n",
       "      <td>220520007895</td>\n",
       "      <td>Philo also proposes that the order in nature m...</td>\n",
       "      <td>ORG_NO_PRODUCT_NO_PERSON_NO_</td>\n",
       "      <td>137.0</td>\n",
       "      <td>36.0</td>\n",
       "      <td>man</td>\n",
       "      <td>philosophy</td>\n",
       "      <td>clear_enough</td>\n",
       "      <td>philo also proposes that the order in nature m...</td>\n",
       "      <td>798</td>\n",
       "    </tr>\n",
       "    <tr>\n",
       "      <th>6</th>\n",
       "      <td>6360003753</td>\n",
       "      <td>This led to the AI spring of the early 2020s,...</td>\n",
       "      <td>ORG_YES_PRODUCT_NO_PERSON_NO_</td>\n",
       "      <td>116.0</td>\n",
       "      <td>47.0</td>\n",
       "      <td>man</td>\n",
       "      <td>artificial intelligence</td>\n",
       "      <td>not_clear_enough</td>\n",
       "      <td>this led to the ai spring of the early 2020s, ...</td>\n",
       "      <td>886</td>\n",
       "    </tr>\n",
       "    <tr>\n",
       "      <th>7</th>\n",
       "      <td>848119011941</td>\n",
       "      <td>A second form of functionalism is based on the...</td>\n",
       "      <td>ORG_YES_PRODUCT_NO_PERSON_YES_</td>\n",
       "      <td>42.0</td>\n",
       "      <td>14.0</td>\n",
       "      <td>man</td>\n",
       "      <td>philosophy</td>\n",
       "      <td>clear_enough</td>\n",
       "      <td>a second form of functionalism is based on the...</td>\n",
       "      <td>277</td>\n",
       "    </tr>\n",
       "    <tr>\n",
       "      <th>8</th>\n",
       "      <td>49279000639</td>\n",
       "      <td>The opposite of \"moral\" is \"immoral\", meaning ...</td>\n",
       "      <td>ORG_NO_PRODUCT_NO_PERSON_NO_</td>\n",
       "      <td>51.0</td>\n",
       "      <td>8.0</td>\n",
       "      <td>man</td>\n",
       "      <td>philosophy</td>\n",
       "      <td>clear_enough</td>\n",
       "      <td>the opposite of \"moral\" is \"immoral\", meaning ...</td>\n",
       "      <td>275</td>\n",
       "    </tr>\n",
       "    <tr>\n",
       "      <th>9</th>\n",
       "      <td>79225005859</td>\n",
       "      <td>Pepys' diary provides a first-hand account of ...</td>\n",
       "      <td>ORG_NO_PRODUCT_YES_PERSON_YES_</td>\n",
       "      <td>139.0</td>\n",
       "      <td>31.0</td>\n",
       "      <td>man</td>\n",
       "      <td>biographies</td>\n",
       "      <td>not_clear_enough</td>\n",
       "      <td>pepys' diary provides a first-hand account of ...</td>\n",
       "      <td>856</td>\n",
       "    </tr>\n",
       "  </tbody>\n",
       "</table>\n",
       "</div>"
      ],
      "text/plain": [
       "         par_id                                          paragraph  \\\n",
       "0  428209002237  Ramsay was born in Glasgow on 2 October 1852. ...   \n",
       "1  564218010072  It has been widely estimated for at least the ...   \n",
       "2  291401001672  He went on to win the Royal Medal of the Royal...   \n",
       "3   31548004883  The changes have altered many underlying assum...   \n",
       "4   50634005146  After these novels were published, Disraeli de...   \n",
       "5  220520007895  Philo also proposes that the order in nature m...   \n",
       "6    6360003753   This led to the AI spring of the early 2020s,...   \n",
       "7  848119011941  A second form of functionalism is based on the...   \n",
       "8   49279000639  The opposite of \"moral\" is \"immoral\", meaning ...   \n",
       "9   79225005859  Pepys' diary provides a first-hand account of ...   \n",
       "\n",
       "                        has_entity  lexicon_count  difficult_words  \\\n",
       "0   ORG_YES_PRODUCT_NO_PERSON_YES_           49.0             12.0   \n",
       "1    ORG_YES_PRODUCT_NO_PERSON_NO_          166.0             47.0   \n",
       "2    ORG_YES_PRODUCT_NO_PERSON_NO_           69.0             18.0   \n",
       "3    ORG_NO_PRODUCT_YES_PERSON_NO_           76.0             27.0   \n",
       "4  ORG_YES_PRODUCT_YES_PERSON_YES_          200.0             47.0   \n",
       "5     ORG_NO_PRODUCT_NO_PERSON_NO_          137.0             36.0   \n",
       "6    ORG_YES_PRODUCT_NO_PERSON_NO_          116.0             47.0   \n",
       "7   ORG_YES_PRODUCT_NO_PERSON_YES_           42.0             14.0   \n",
       "8     ORG_NO_PRODUCT_NO_PERSON_NO_           51.0              8.0   \n",
       "9   ORG_NO_PRODUCT_YES_PERSON_YES_          139.0             31.0   \n",
       "\n",
       "  last_editor_gender                 category      text_clarity  \\\n",
       "0                man              biographies      clear_enough   \n",
       "1                man  artificial intelligence  not_clear_enough   \n",
       "2         non-binary              biographies      clear_enough   \n",
       "3         non-binary              programming      clear_enough   \n",
       "4                man              biographies  not_clear_enough   \n",
       "5                man               philosophy      clear_enough   \n",
       "6                man  artificial intelligence  not_clear_enough   \n",
       "7                man               philosophy      clear_enough   \n",
       "8                man               philosophy      clear_enough   \n",
       "9                man              biographies  not_clear_enough   \n",
       "\n",
       "                                          clean_text  text_length  \n",
       "0  ramsay was born in glasgow on 2 october 1852. ...          283  \n",
       "1  it has been widely estimated for at least the ...         1037  \n",
       "2  he went on to win the royal medal of the royal...          423  \n",
       "3  the changes have altered many underlying assum...          514  \n",
       "4  after these novels were published, disraeli de...         1235  \n",
       "5  philo also proposes that the order in nature m...          798  \n",
       "6  this led to the ai spring of the early 2020s, ...          886  \n",
       "7  a second form of functionalism is based on the...          277  \n",
       "8  the opposite of \"moral\" is \"immoral\", meaning ...          275  \n",
       "9  pepys' diary provides a first-hand account of ...          856  "
      ]
     },
     "execution_count": 71,
     "metadata": {},
     "output_type": "execute_result"
    }
   ],
   "source": [
    "data.head(10)"
   ]
  },
  {
   "cell_type": "markdown",
   "metadata": {},
   "source": [
    "#### Making a prototype with 100 data points"
   ]
  },
  {
   "cell_type": "code",
   "execution_count": 72,
   "metadata": {},
   "outputs": [],
   "source": [
    "data_2=data.head(100)"
   ]
  },
  {
   "cell_type": "code",
   "execution_count": 73,
   "metadata": {
    "scrolled": true
   },
   "outputs": [
    {
     "name": "stdout",
     "output_type": "stream",
     "text": [
      "<class 'pandas.core.frame.DataFrame'>\n",
      "RangeIndex: 100 entries, 0 to 99\n",
      "Data columns (total 10 columns):\n",
      " #   Column              Non-Null Count  Dtype  \n",
      "---  ------              --------------  -----  \n",
      " 0   par_id              100 non-null    int64  \n",
      " 1   paragraph           100 non-null    object \n",
      " 2   has_entity          100 non-null    object \n",
      " 3   lexicon_count       100 non-null    float64\n",
      " 4   difficult_words     100 non-null    float64\n",
      " 5   last_editor_gender  100 non-null    object \n",
      " 6   category            100 non-null    object \n",
      " 7   text_clarity        100 non-null    object \n",
      " 8   clean_text          100 non-null    object \n",
      " 9   text_length         100 non-null    int64  \n",
      "dtypes: float64(2), int64(2), object(6)\n",
      "memory usage: 7.9+ KB\n"
     ]
    }
   ],
   "source": [
    "data_2.info()"
   ]
  },
  {
   "cell_type": "markdown",
   "metadata": {},
   "source": [
    "**Lavelling the text_clerity column**"
   ]
  },
  {
   "cell_type": "code",
   "execution_count": 74,
   "metadata": {},
   "outputs": [],
   "source": [
    "data_2.loc[data_2['text_length'] > 800, 'text_clarity'] = 'not_clear_enough'\n",
    "data_2.loc[data_2['text_length'] <= 800, 'text_clarity'] = 'clear_enough'"
   ]
  },
  {
   "cell_type": "code",
   "execution_count": 75,
   "metadata": {},
   "outputs": [
    {
     "data": {
      "text/html": [
       "<div>\n",
       "<style scoped>\n",
       "    .dataframe tbody tr th:only-of-type {\n",
       "        vertical-align: middle;\n",
       "    }\n",
       "\n",
       "    .dataframe tbody tr th {\n",
       "        vertical-align: top;\n",
       "    }\n",
       "\n",
       "    .dataframe thead th {\n",
       "        text-align: right;\n",
       "    }\n",
       "</style>\n",
       "<table border=\"1\" class=\"dataframe\">\n",
       "  <thead>\n",
       "    <tr style=\"text-align: right;\">\n",
       "      <th></th>\n",
       "      <th>par_id</th>\n",
       "      <th>paragraph</th>\n",
       "      <th>has_entity</th>\n",
       "      <th>lexicon_count</th>\n",
       "      <th>difficult_words</th>\n",
       "      <th>last_editor_gender</th>\n",
       "      <th>category</th>\n",
       "      <th>text_clarity</th>\n",
       "      <th>clean_text</th>\n",
       "      <th>text_length</th>\n",
       "    </tr>\n",
       "  </thead>\n",
       "  <tbody>\n",
       "    <tr>\n",
       "      <th>0</th>\n",
       "      <td>428209002237</td>\n",
       "      <td>Ramsay was born in Glasgow on 2 October 1852. ...</td>\n",
       "      <td>ORG_YES_PRODUCT_NO_PERSON_YES_</td>\n",
       "      <td>49.0</td>\n",
       "      <td>12.0</td>\n",
       "      <td>man</td>\n",
       "      <td>biographies</td>\n",
       "      <td>clear_enough</td>\n",
       "      <td>ramsay was born in glasgow on 2 october 1852. ...</td>\n",
       "      <td>283</td>\n",
       "    </tr>\n",
       "    <tr>\n",
       "      <th>1</th>\n",
       "      <td>564218010072</td>\n",
       "      <td>It has been widely estimated for at least the ...</td>\n",
       "      <td>ORG_YES_PRODUCT_NO_PERSON_NO_</td>\n",
       "      <td>166.0</td>\n",
       "      <td>47.0</td>\n",
       "      <td>man</td>\n",
       "      <td>artificial intelligence</td>\n",
       "      <td>not_clear_enough</td>\n",
       "      <td>it has been widely estimated for at least the ...</td>\n",
       "      <td>1037</td>\n",
       "    </tr>\n",
       "    <tr>\n",
       "      <th>2</th>\n",
       "      <td>291401001672</td>\n",
       "      <td>He went on to win the Royal Medal of the Royal...</td>\n",
       "      <td>ORG_YES_PRODUCT_NO_PERSON_NO_</td>\n",
       "      <td>69.0</td>\n",
       "      <td>18.0</td>\n",
       "      <td>non-binary</td>\n",
       "      <td>biographies</td>\n",
       "      <td>clear_enough</td>\n",
       "      <td>he went on to win the royal medal of the royal...</td>\n",
       "      <td>423</td>\n",
       "    </tr>\n",
       "    <tr>\n",
       "      <th>3</th>\n",
       "      <td>31548004883</td>\n",
       "      <td>The changes have altered many underlying assum...</td>\n",
       "      <td>ORG_NO_PRODUCT_YES_PERSON_NO_</td>\n",
       "      <td>76.0</td>\n",
       "      <td>27.0</td>\n",
       "      <td>non-binary</td>\n",
       "      <td>programming</td>\n",
       "      <td>clear_enough</td>\n",
       "      <td>the changes have altered many underlying assum...</td>\n",
       "      <td>514</td>\n",
       "    </tr>\n",
       "    <tr>\n",
       "      <th>4</th>\n",
       "      <td>50634005146</td>\n",
       "      <td>After these novels were published, Disraeli de...</td>\n",
       "      <td>ORG_YES_PRODUCT_YES_PERSON_YES_</td>\n",
       "      <td>200.0</td>\n",
       "      <td>47.0</td>\n",
       "      <td>man</td>\n",
       "      <td>biographies</td>\n",
       "      <td>not_clear_enough</td>\n",
       "      <td>after these novels were published, disraeli de...</td>\n",
       "      <td>1235</td>\n",
       "    </tr>\n",
       "  </tbody>\n",
       "</table>\n",
       "</div>"
      ],
      "text/plain": [
       "         par_id                                          paragraph  \\\n",
       "0  428209002237  Ramsay was born in Glasgow on 2 October 1852. ...   \n",
       "1  564218010072  It has been widely estimated for at least the ...   \n",
       "2  291401001672  He went on to win the Royal Medal of the Royal...   \n",
       "3   31548004883  The changes have altered many underlying assum...   \n",
       "4   50634005146  After these novels were published, Disraeli de...   \n",
       "\n",
       "                        has_entity  lexicon_count  difficult_words  \\\n",
       "0   ORG_YES_PRODUCT_NO_PERSON_YES_           49.0             12.0   \n",
       "1    ORG_YES_PRODUCT_NO_PERSON_NO_          166.0             47.0   \n",
       "2    ORG_YES_PRODUCT_NO_PERSON_NO_           69.0             18.0   \n",
       "3    ORG_NO_PRODUCT_YES_PERSON_NO_           76.0             27.0   \n",
       "4  ORG_YES_PRODUCT_YES_PERSON_YES_          200.0             47.0   \n",
       "\n",
       "  last_editor_gender                 category      text_clarity  \\\n",
       "0                man              biographies      clear_enough   \n",
       "1                man  artificial intelligence  not_clear_enough   \n",
       "2         non-binary              biographies      clear_enough   \n",
       "3         non-binary              programming      clear_enough   \n",
       "4                man              biographies  not_clear_enough   \n",
       "\n",
       "                                          clean_text  text_length  \n",
       "0  ramsay was born in glasgow on 2 october 1852. ...          283  \n",
       "1  it has been widely estimated for at least the ...         1037  \n",
       "2  he went on to win the royal medal of the royal...          423  \n",
       "3  the changes have altered many underlying assum...          514  \n",
       "4  after these novels were published, disraeli de...         1235  "
      ]
     },
     "execution_count": 75,
     "metadata": {},
     "output_type": "execute_result"
    }
   ],
   "source": [
    "data_2.head()"
   ]
  },
  {
   "cell_type": "code",
   "execution_count": 76,
   "metadata": {},
   "outputs": [
    {
     "data": {
      "text/plain": [
       "text_clarity\n",
       "clear_enough        79\n",
       "not_clear_enough    21\n",
       "Name: count, dtype: int64"
      ]
     },
     "execution_count": 76,
     "metadata": {},
     "output_type": "execute_result"
    }
   ],
   "source": [
    "data_2['text_clarity'].value_counts()"
   ]
  },
  {
   "cell_type": "code",
   "execution_count": 77,
   "metadata": {},
   "outputs": [
    {
     "name": "stdout",
     "output_type": "stream",
     "text": [
      "Text Categories names are:\n",
      "['clear_enough', 'not_clear_enough']\n",
      "\n",
      "Text Categories names and corresponding labels are:\n",
      "[('clear_enough', 0), ('not_clear_enough', 1)]\n"
     ]
    }
   ],
   "source": [
    "print('Text Categories names are:')\n",
    "Text_Categories =['clear_enough','not_clear_enough']\n",
    "\n",
    "print(Text_Categories)\n",
    "print()\n",
    "print('Text Categories names and corresponding labels are:')\n",
    "print([(v, k) for k, v in enumerate(Text_Categories)])\n"
   ]
  },
  {
   "cell_type": "code",
   "execution_count": 78,
   "metadata": {},
   "outputs": [],
   "source": [
    "# Spliting the prototype\n",
    "df2_train,df2_test=train_test_split(data_2,test_size=0.2,stratify = data_2['text_clarity'],random_state=0)"
   ]
  },
  {
   "cell_type": "markdown",
   "metadata": {},
   "source": [
    "#### Encoding"
   ]
  },
  {
   "cell_type": "code",
   "execution_count": 79,
   "metadata": {},
   "outputs": [],
   "source": [
    "# Encoding 'text_clarity' by LabelEncoder\n",
    "df2_train[['text_clarity']] = df2_train[['text_clarity']].apply(LabelEncoder().fit_transform)\n",
    "df2_test[['text_clarity']] = df2_test[['text_clarity']].apply(LabelEncoder().fit_transform)"
   ]
  },
  {
   "cell_type": "code",
   "execution_count": 80,
   "metadata": {},
   "outputs": [
    {
     "name": "stdout",
     "output_type": "stream",
     "text": [
      "Time elapsed is 0.48 seconds\n"
     ]
    }
   ],
   "source": [
    "t0 = tt()\n",
    "df2_test_emb = df2_test['clean_text'].apply(lambda x: pd.Series(get_spacy_doc_embedding(x)))\n",
    "df2_test_new = df2_test_emb.join(df2_test[['difficult_words','text_length','text_clarity']])\n",
    "df2_test_new.columns = df2_test_new.columns.astype(str)\n",
    "print(f'Time elapsed is {(tt()-t0):.2f} seconds')\n"
   ]
  },
  {
   "cell_type": "code",
   "execution_count": 81,
   "metadata": {},
   "outputs": [
    {
     "name": "stdout",
     "output_type": "stream",
     "text": [
      "Time elapsed is 2.02 seconds\n"
     ]
    }
   ],
   "source": [
    "t0 = tt()\n",
    "df2_train_emb = df2_train['clean_text'].apply(lambda x: pd.Series(get_spacy_doc_embedding(x)))\n",
    "df2_train_new = df2_train_emb.join(df2_train[['difficult_words','text_length','text_clarity']])\n",
    "df2_train_new.columns = df2_train_new.columns.astype(str)\n",
    "print(f'Time elapsed is {(tt()-t0):.2f} seconds')\n"
   ]
  },
  {
   "cell_type": "code",
   "execution_count": 82,
   "metadata": {},
   "outputs": [],
   "source": [
    "# Preparation\n",
    "import warnings\n",
    "warnings.simplefilter(\"ignore\")\n",
    "\n",
    "y2_train = df2_train_new['text_clarity']\n",
    "y2_test = df2_test_new['text_clarity']"
   ]
  },
  {
   "cell_type": "markdown",
   "metadata": {},
   "source": [
    "**Model buliding for prototype**"
   ]
  },
  {
   "cell_type": "code",
   "execution_count": 83,
   "metadata": {},
   "outputs": [
    {
     "name": "stdout",
     "output_type": "stream",
     "text": [
      "Time taken to train gridsearch: 6.90 seconds.\n"
     ]
    }
   ],
   "source": [
    "\n",
    "\n",
    "clf_search = GridSearchCV(clf_, hparameters, scoring= \"accuracy\", cv= 5,\n",
    "                          return_train_score=True)\n",
    "\n",
    "t0 = tt()\n",
    "_ =clf_search.fit(df2_train_new.drop(columns = ['text_clarity']), y2_train)\n",
    "print(f'Time taken to train gridsearch: {tt()-t0:.2f} seconds.')\n",
    "\n"
   ]
  },
  {
   "cell_type": "markdown",
   "metadata": {},
   "source": [
    "**CV search for prototype**"
   ]
  },
  {
   "cell_type": "code",
   "execution_count": 84,
   "metadata": {},
   "outputs": [
    {
     "name": "stdout",
     "output_type": "stream",
     "text": [
      "0.925 {'clf__hidden_layer_sizes': (30,), 'clf__learning_rate_init': 0.001}\n",
      "\n"
     ]
    }
   ],
   "source": [
    "#original data\n",
    "print(clf_search.best_score_, clf_search.best_params_)\n",
    "\n",
    "print()\n"
   ]
  },
  {
   "cell_type": "markdown",
   "metadata": {},
   "source": [
    "**Evaluation**"
   ]
  },
  {
   "cell_type": "code",
   "execution_count": 85,
   "metadata": {},
   "outputs": [
    {
     "data": {
      "text/html": [
       "<div>\n",
       "<style scoped>\n",
       "    .dataframe tbody tr th:only-of-type {\n",
       "        vertical-align: middle;\n",
       "    }\n",
       "\n",
       "    .dataframe tbody tr th {\n",
       "        vertical-align: top;\n",
       "    }\n",
       "\n",
       "    .dataframe thead th {\n",
       "        text-align: right;\n",
       "    }\n",
       "</style>\n",
       "<table border=\"1\" class=\"dataframe\">\n",
       "  <thead>\n",
       "    <tr style=\"text-align: right;\">\n",
       "      <th></th>\n",
       "      <th>mean_test_score</th>\n",
       "      <th>std_test_score</th>\n",
       "      <th>mean_train_score</th>\n",
       "      <th>std_train_score</th>\n",
       "      <th>param_clf__hidden_layer_sizes</th>\n",
       "      <th>param_clf__learning_rate_init</th>\n",
       "    </tr>\n",
       "  </thead>\n",
       "  <tbody>\n",
       "    <tr>\n",
       "      <th>0</th>\n",
       "      <td>0.8000</td>\n",
       "      <td>0.025000</td>\n",
       "      <td>0.781250</td>\n",
       "      <td>0.026146</td>\n",
       "      <td>(20, 20)</td>\n",
       "      <td>0.0001</td>\n",
       "    </tr>\n",
       "    <tr>\n",
       "      <th>1</th>\n",
       "      <td>0.9125</td>\n",
       "      <td>0.063738</td>\n",
       "      <td>0.978125</td>\n",
       "      <td>0.023385</td>\n",
       "      <td>(20, 20)</td>\n",
       "      <td>0.001</td>\n",
       "    </tr>\n",
       "    <tr>\n",
       "      <th>2</th>\n",
       "      <td>0.7875</td>\n",
       "      <td>0.140312</td>\n",
       "      <td>0.828125</td>\n",
       "      <td>0.086150</td>\n",
       "      <td>(30,)</td>\n",
       "      <td>0.0001</td>\n",
       "    </tr>\n",
       "    <tr>\n",
       "      <th>3</th>\n",
       "      <td>0.9250</td>\n",
       "      <td>0.046771</td>\n",
       "      <td>0.968750</td>\n",
       "      <td>0.013975</td>\n",
       "      <td>(30,)</td>\n",
       "      <td>0.001</td>\n",
       "    </tr>\n",
       "  </tbody>\n",
       "</table>\n",
       "</div>"
      ],
      "text/plain": [
       "   mean_test_score  std_test_score  mean_train_score  std_train_score  \\\n",
       "0           0.8000        0.025000          0.781250         0.026146   \n",
       "1           0.9125        0.063738          0.978125         0.023385   \n",
       "2           0.7875        0.140312          0.828125         0.086150   \n",
       "3           0.9250        0.046771          0.968750         0.013975   \n",
       "\n",
       "  param_clf__hidden_layer_sizes param_clf__learning_rate_init  \n",
       "0                      (20, 20)                        0.0001  \n",
       "1                      (20, 20)                         0.001  \n",
       "2                         (30,)                        0.0001  \n",
       "3                         (30,)                         0.001  "
      ]
     },
     "execution_count": 85,
     "metadata": {},
     "output_type": "execute_result"
    }
   ],
   "source": [
    "cv_res = pd.DataFrame(clf_search.cv_results_)\n",
    "interesting_columns = ['mean_test_score','std_test_score','mean_train_score','std_train_score']\n",
    "interesting_columns = interesting_columns + [t for t in cv_res.columns if 'param_' in t]\n",
    "cv_res[interesting_columns]"
   ]
  },
  {
   "cell_type": "markdown",
   "metadata": {},
   "source": [
    "Here the results of training dataset and validation dataset are almost same. So there is no over/under-fitting problem."
   ]
  },
  {
   "cell_type": "code",
   "execution_count": 86,
   "metadata": {},
   "outputs": [],
   "source": [
    "# Get the best estimator for further analysis of the results using the test set\n",
    "best_clf = clf_search.best_estimator_"
   ]
  },
  {
   "cell_type": "code",
   "execution_count": 87,
   "metadata": {},
   "outputs": [
    {
     "name": "stdout",
     "output_type": "stream",
     "text": [
      "                  precision    recall  f1-score   support\n",
      "\n",
      "    clear_enough       0.94      1.00      0.97        16\n",
      "not_clear_enough       1.00      0.75      0.86         4\n",
      "\n",
      "        accuracy                           0.95        20\n",
      "       macro avg       0.97      0.88      0.91        20\n",
      "    weighted avg       0.95      0.95      0.95        20\n",
      "\n"
     ]
    },
    {
     "data": {
      "image/png": "[encoded data removed]",
      "text/plain": [
       "<Figure size 640x480 with 2 Axes>"
      ]
     },
     "metadata": {},
     "output_type": "display_data"
    }
   ],
   "source": [
    "# Compute predictions and evaluation metrics using the best estimator\n",
    "y2_pred = best_clf.predict(df2_test_new.drop(columns = ['text_clarity']))\n",
    "print(classification_report(y2_test, y2_pred,target_names=Text_Categories))\n",
    "\n",
    "cm= ConfusionMatrixDisplay.from_estimator(best_clf, df2_test_new.drop(columns = ['text_clarity']), y2_test)\n",
    "\n"
   ]
  },
  {
   "cell_type": "code",
   "execution_count": 88,
   "metadata": {},
   "outputs": [
    {
     "name": "stdout",
     "output_type": "stream",
     "text": [
      "                  precision    recall  f1-score   support\n",
      "\n",
      "    clear_enough       0.80      0.50      0.62        16\n",
      "not_clear_enough       0.20      0.50      0.29         4\n",
      "\n",
      "        accuracy                           0.50        20\n",
      "       macro avg       0.50      0.50      0.45        20\n",
      "    weighted avg       0.68      0.50      0.55        20\n",
      "\n"
     ]
    },
    {
     "data": {
      "image/png": "[encoded data removed]",
      "text/plain": [
       "<Figure size 640x480 with 2 Axes>"
      ]
     },
     "metadata": {},
     "output_type": "display_data"
    }
   ],
   "source": [
    "from sklearn.dummy import DummyClassifier\n",
    "trivial_clf = DummyClassifier(strategy=\"uniform\")\n",
    "trivial_clf.fit(df2_train_new.drop(columns=['text_clarity']), y2_train)\n",
    "\n",
    "y_trivial = trivial_clf.predict(df2_test_new.drop(columns=['text_clarity']))\n",
    "print(classification_report(y2_test, y_trivial,target_names=Text_Categories))\n",
    "\n",
    "cm= ConfusionMatrixDisplay.from_estimator(trivial_clf, df2_test_new.drop(columns=['text_clarity']), y2_test)\n"
   ]
  },
  {
   "cell_type": "code",
   "execution_count": null,
   "metadata": {},
   "outputs": [],
   "source": []
  }
 ],
 "metadata": {
  "colab": {
   "provenance": []
  },
  "kernelspec": {
   "display_name": "Python 3 (ipykernel)",
   "language": "python",
   "name": "python3"
  },
  "language_info": {
   "codemirror_mode": {
    "name": "ipython",
    "version": 3
   },
   "file_extension": ".py",
   "mimetype": "text/x-python",
   "name": "python",
   "nbconvert_exporter": "python",
   "pygments_lexer": "ipython3",
   "version": "3.10.6"
  }
 },
 "nbformat": 4,
 "nbformat_minor": 1
}
